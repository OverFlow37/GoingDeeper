{
 "cells": [
  {
   "cell_type": "markdown",
   "id": "cleared-bracket",
   "metadata": {},
   "source": [
    "# 한국어 - 영어 번역기 만들기"
   ]
  },
  {
   "cell_type": "markdown",
   "id": "illegal-lawsuit",
   "metadata": {},
   "source": [
    "## 라이브러리 import"
   ]
  },
  {
   "cell_type": "code",
   "execution_count": 1,
   "id": "israeli-classics",
   "metadata": {},
   "outputs": [
    {
     "name": "stdout",
     "output_type": "stream",
     "text": [
      "2.4.1\n"
     ]
    }
   ],
   "source": [
    "import tensorflow as tf\n",
    "import numpy as np\n",
    "\n",
    "from sklearn.model_selection import train_test_split\n",
    "\n",
    "import matplotlib.ticker as ticker\n",
    "import matplotlib.pyplot as plt\n",
    "\n",
    "import time\n",
    "import re\n",
    "import os\n",
    "import io\n",
    "import random\n",
    "\n",
    "print(tf.__version__)"
   ]
  },
  {
   "cell_type": "markdown",
   "id": "informative-abortion",
   "metadata": {},
   "source": [
    "## 데이터 불러오기"
   ]
  },
  {
   "cell_type": "code",
   "execution_count": 2,
   "id": "precise-sampling",
   "metadata": {},
   "outputs": [
    {
     "name": "stdout",
     "output_type": "stream",
     "text": [
      "<class 'list'>\n",
      ">>>  개인용 컴퓨터 사용의 상당 부분은 \"이것보다 뛰어날 수 있느냐?\"\n",
      ">>>  모든 광마우스와 마찬가지 로 이 광마우스도 책상 위에 놓는 마우스 패드를 필요로 하지 않는다.\n",
      ">>>  그러나 이것은 또한 책상도 필요로 하지 않는다.\n",
      ">>>  79.95달러하는 이 최첨단 무선 광마우스는 허공에서 팔목, 팔, 그외에 어떤 부분이든 그 움직임에따라 커서의 움직임을 조절하는 회전 운동 센서를 사용하고 있다.\n",
      ">>>  정보 관리들은 동남 아시아에서의 선박들에 대한 많은 (테러) 계획들이 실패로 돌아갔음을 밝혔으며, 세계 해상 교역량의 거의 3분의 1을 운송하는 좁은 해로인 말라카 해협이 테러 공격을 당하기 쉽다고 경고하고 있다.\n",
      ">>>  이 지역에 있는 미국 선박과 상업용 선박들에 대한 알카에다의 (테러) 시도 중 여러 건이 실패했다는 것을 알게 된 후에, 전문가들은 테러 조직이 여전히 세계 경제에 타격을 입히려 한다고 경고하고 있으며, 동남 아시아에 있는 세계 경제의 주요 통로가 위험에 처해 있다고 그들은 생각하고 있다.\n",
      ">>>  국립 과학 학회가 발표한 새 보고서에따르면, 복잡한 임무를 수행해야 하는 군인들이나 보다 오랜 시간 동안 경계를 늦추지 않고 있기 위해 도움이 필요한 군인들에게 카페인이 반응 시간을 증가시키고 임무 수행 능력을 향상시키는데 도움이 된다고 한다.\n",
      ">>>  이 보고서에따르면, \"특히, 군사 작전에서 생사가 걸린 상황이 될 수도 있는 반응 속도와 시각 및 청각의 경계 상태를 유지시키기 위해 카페인이 사용될 수도 있다.\" 고 한다.\n",
      ">>>  \"결정적인 순간에 그들의 능력을 증가시켜 줄 그 무엇이 매우 중요합니다.\"\n",
      ">>>  연구가들이 이미 커피 대체품으로서 음식 대용 과자나 껌에 카페인을 첨가하는 방법을 연구하고 있다고 Archibald는 말했다.\n",
      "total data size: 94123\n"
     ]
    }
   ],
   "source": [
    "file_path = os.getenv('HOME')+'/aiffel/GoingDeeper/Project04'\n",
    "with open(file_path+'/{}'.format('korean-english-park.train.ko'), \"r\") as f:\n",
    "        raw_kor = f.read().splitlines()\n",
    "        \n",
    "print(type(raw_kor))\n",
    "for sen in raw_kor[:10] :\n",
    "    print(\">>> \",sen)\n",
    "print('total data size:', len(raw_kor))"
   ]
  },
  {
   "cell_type": "code",
   "execution_count": 3,
   "id": "hidden-growth",
   "metadata": {},
   "outputs": [
    {
     "name": "stdout",
     "output_type": "stream",
     "text": [
      "<class 'list'>\n",
      ">>>  Much of personal computing is about \"can you top this?\"\n",
      ">>>  so a mention a few weeks ago about a rechargeable wireless optical mouse brought in another rechargeable, wireless mouse.\n",
      ">>>  Like all optical mice, But it also doesn't need a desk.\n",
      ">>>  uses gyroscopic sensors to control the cursor movement as you move your wrist, arm, whatever through the air.\n",
      ">>>  Intelligence officials have revealed a spate of foiled plots on ships in Southeast Asia and are warning that a narrow stretch of water carrying almost one third of the world's maritime trade is vulnerable to a terror attack.\n",
      ">>>  After learning of several foiled al Qaeda attempts on U.S. and commercial ships in the area, experts are warning that the terror network still wants to cripple the global economy, the world's economic jugular vein in Southeast Asia is at risk.\n",
      ">>>  Caffeine can help increase reaction time and improve performance for military servicemen who must perform complex tasks or who need help staying alert for longer periods of time, according to a new report by the National Academy of Sciences.\n",
      ">>>  \"Specifically, it can be used in maintaining speed of reactions and visual and auditory vigilance, which in military operations could be a life or death situation,\" according to the report.\n",
      ">>>  \"Something that will boost their capabilities at crucial moments is very important.\"\n",
      ">>>  Researchers are already exploring ways to put caffeine in nutrition bars or chewing gum as alternatives to coffee, Archibald said.\n",
      "total data size: 94123\n"
     ]
    }
   ],
   "source": [
    "file_path = os.getenv('HOME')+'/aiffel/GoingDeeper/Project04'\n",
    "with open(file_path+'/{}'.format('korean-english-park.train.en'), \"r\") as f:\n",
    "        raw_eng = f.read().splitlines()\n",
    "        \n",
    "print(type(raw_eng))\n",
    "for sen in raw_eng[:10] :\n",
    "    print(\">>> \",sen)\n",
    "print('total data size:', len(raw_eng))"
   ]
  },
  {
   "cell_type": "markdown",
   "id": "designing-carroll",
   "metadata": {},
   "source": [
    "## set 활용 중복 데이터 제거"
   ]
  },
  {
   "cell_type": "code",
   "execution_count": 4,
   "id": "proud-macro",
   "metadata": {},
   "outputs": [
    {
     "data": {
      "text/plain": [
       "<zip at 0x7ffb3b3c10f0>"
      ]
     },
     "execution_count": 4,
     "metadata": {},
     "output_type": "execute_result"
    }
   ],
   "source": [
    "raw = zip(raw_kor, raw_eng)\n",
    "raw"
   ]
  },
  {
   "cell_type": "code",
   "execution_count": 5,
   "id": "trying-satisfaction",
   "metadata": {},
   "outputs": [
    {
     "data": {
      "text/plain": [
       "78968"
      ]
     },
     "execution_count": 5,
     "metadata": {},
     "output_type": "execute_result"
    }
   ],
   "source": [
    "set_raw = set(raw)\n",
    "len(set_raw)"
   ]
  },
  {
   "cell_type": "code",
   "execution_count": 6,
   "id": "acute-surge",
   "metadata": {},
   "outputs": [],
   "source": [
    "cleaned_corpus_kor,cleaned_corpus_eng = zip(*set_raw)"
   ]
  },
  {
   "cell_type": "code",
   "execution_count": 7,
   "id": "floppy-engineering",
   "metadata": {},
   "outputs": [
    {
     "name": "stdout",
     "output_type": "stream",
     "text": [
      "보리스 타디치 세르비아 대통령은 “코소보의 독립선언이 분리주의자들로 구성된 주를 가진 다른 국가들에게 위험한 선례가 될 수 있다”고 경고했다.\n",
      "Tadic asked the U.N. Security Council to annul the declaration of independence.\n"
     ]
    }
   ],
   "source": [
    "print(cleaned_corpus_kor[5])\n",
    "print(cleaned_corpus_eng[5])"
   ]
  },
  {
   "cell_type": "code",
   "execution_count": 8,
   "id": "boring-turkish",
   "metadata": {},
   "outputs": [
    {
     "name": "stdout",
     "output_type": "stream",
     "text": [
      "korean data size: 78968\n",
      "english data size: 78968\n"
     ]
    }
   ],
   "source": [
    "print('korean data size:', len(cleaned_corpus_kor))\n",
    "print('english data size:', len(cleaned_corpus_eng))"
   ]
  },
  {
   "cell_type": "code",
   "execution_count": 9,
   "id": "auburn-singing",
   "metadata": {},
   "outputs": [],
   "source": [
    "def preprocess_sentence(sentence, s_token=False, e_token=False):\n",
    "    sentence = sentence.lower().strip()\n",
    "\n",
    "    sentence = re.sub(r\"([?.!,])\", r\" \\1 \", sentence)\n",
    "    sentence = re.sub(r'[\" \"]+', \" \", sentence)\n",
    "    sentence = re.sub(r\"[^a-zA-Z가-힣ㄱ-ㅎㅏ-ㅣ?.!,]+\", \" \", sentence)\n",
    "\n",
    "    sentence = sentence.strip()\n",
    "\n",
    "    if s_token:\n",
    "        sentence = '<start> ' + sentence\n",
    "\n",
    "    if e_token:\n",
    "        sentence += ' <end>'\n",
    "    \n",
    "    return sentence"
   ]
  },
  {
   "cell_type": "code",
   "execution_count": 10,
   "id": "functioning-action",
   "metadata": {},
   "outputs": [
    {
     "name": "stdout",
     "output_type": "stream",
     "text": [
      "korean data size: 16261\n",
      "english data size: 16261\n",
      "Korean: 년 알프레드 노벨 기념회에서 스웨덴 중앙은행이 이 상을 창설했다 .\n",
      "English: <start> it was created in by the swedish central bank in alfred nobel s memory . <end>\n"
     ]
    }
   ],
   "source": [
    "enc_corpus = []\n",
    "dec_corpus = []\n",
    "\n",
    "#num_examples = 30000\n",
    "\n",
    "for kor, eng in zip(cleaned_corpus_kor, cleaned_corpus_eng):\n",
    "    temp_kor = preprocess_sentence(kor)\n",
    "    temp_eng = preprocess_sentence(eng, s_token=True, e_token=True)\n",
    "\n",
    "    if len(temp_kor) <= 40:\n",
    "        enc_corpus.append(temp_kor)\n",
    "        dec_corpus.append(temp_eng)\n",
    "    \n",
    "print('korean data size:', len(enc_corpus))\n",
    "print('english data size:', len(dec_corpus))\n",
    "print(\"Korean:\", enc_corpus[100])   \n",
    "print(\"English:\", dec_corpus[100])"
   ]
  },
  {
   "cell_type": "code",
   "execution_count": 11,
   "id": "drawn-minimum",
   "metadata": {},
   "outputs": [
    {
     "name": "stdout",
     "output_type": "stream",
     "text": [
      "Korean: 그는 어떤 것도 그렇게 하지 못할 것으로 생각합니다 .\n",
      "English: <start> he doesn t think anything will <end>\n"
     ]
    }
   ],
   "source": [
    "print(\"Korean:\", enc_corpus[3])   \n",
    "print(\"English:\", dec_corpus[3])"
   ]
  },
  {
   "cell_type": "code",
   "execution_count": 12,
   "id": "pediatric-abraham",
   "metadata": {},
   "outputs": [
    {
     "name": "stdout",
     "output_type": "stream",
     "text": [
      "Korean: 년간 개량된 블루투스 . 버전은 올 가을 출시될 예정이다 .\n",
      "English: <start> that should happen this fall , when the first bluetooth upgrade in three years , bluetooth . , starts shipping . <end>\n"
     ]
    }
   ],
   "source": [
    "print(\"Korean:\", enc_corpus[10])   \n",
    "print(\"English:\", dec_corpus[10])"
   ]
  },
  {
   "cell_type": "markdown",
   "id": "enclosed-seven",
   "metadata": {},
   "source": [
    "## 데이터 토큰화"
   ]
  },
  {
   "cell_type": "code",
   "execution_count": 13,
   "id": "passive-graphic",
   "metadata": {},
   "outputs": [],
   "source": [
    "from konlpy.tag import Mecab\n",
    "vocab_size = 50000\n",
    "#한국어는 konlpy Mecab 형태소 분석기를 이용하여 전처리해줘야함\n",
    "def tokenize_kor(corpus):\n",
    "    mecab = Mecab()\n",
    "    morph = [\" \".join(mecab.morphs(sen)) for sen in corpus]\n",
    "    \n",
    "    tokenizer = tf.keras.preprocessing.text.Tokenizer(filters='',\n",
    "                                                      num_words = vocab_size)\n",
    "    tokenizer.fit_on_texts(morph)\n",
    "\n",
    "    tensor = tokenizer.texts_to_sequences(morph)\n",
    "\n",
    "    tensor = tf.keras.preprocessing.sequence.pad_sequences(tensor, padding='post')\n",
    "\n",
    "    return tensor, tokenizer\n",
    "\n",
    "def tokenize_eng(corpus):\n",
    "    tokenizer = tf.keras.preprocessing.text.Tokenizer(filters='', \n",
    "                                                      num_words = vocab_size)\n",
    "    tokenizer.fit_on_texts(corpus)\n",
    "\n",
    "    tensor = tokenizer.texts_to_sequences(corpus)\n",
    "\n",
    "    tensor = tf.keras.preprocessing.sequence.pad_sequences(tensor, padding='post')\n",
    "\n",
    "    return tensor, tokenizer"
   ]
  },
  {
   "cell_type": "code",
   "execution_count": null,
   "id": "adjacent-makeup",
   "metadata": {},
   "outputs": [],
   "source": []
  },
  {
   "cell_type": "code",
   "execution_count": 14,
   "id": "veterinary-fundamentals",
   "metadata": {},
   "outputs": [
    {
     "name": "stdout",
     "output_type": "stream",
     "text": [
      "Korean Vocab Size: 17364\n",
      "English Vocab Size: 16849\n"
     ]
    }
   ],
   "source": [
    "# 토큰화하기\n",
    "enc_tensor, enc_tokenizer = tokenize_kor(enc_corpus)\n",
    "dec_tensor, dec_tokenizer = tokenize_eng(dec_corpus)\n",
    "# 훈련 데이터와 검증 데이터로 분리하기\n",
    "\n",
    "enc_train, enc_val, dec_train, dec_val = \\\n",
    "train_test_split(enc_tensor, dec_tensor, test_size=0.2)\n",
    "\n",
    "print(\"Korean Vocab Size:\", len(enc_tokenizer.index_word))\n",
    "print(\"English Vocab Size:\", len(dec_tokenizer.index_word))"
   ]
  },
  {
   "cell_type": "code",
   "execution_count": 15,
   "id": "developed-absorption",
   "metadata": {},
   "outputs": [
    {
     "name": "stdout",
     "output_type": "stream",
     "text": [
      "16261\n",
      "16261\n",
      "13008\n",
      "3253\n"
     ]
    }
   ],
   "source": [
    "print(len(enc_tensor))\n",
    "print(len(dec_tensor))\n",
    "print(len(enc_train))\n",
    "print(len(enc_val))"
   ]
  },
  {
   "cell_type": "markdown",
   "id": "desirable-acceptance",
   "metadata": {},
   "source": [
    "## 모델 설계"
   ]
  },
  {
   "cell_type": "code",
   "execution_count": 16,
   "id": "composite-minister",
   "metadata": {},
   "outputs": [],
   "source": [
    "class BahdanauAttention(tf.keras.layers.Layer):\n",
    "    def __init__(self, units):\n",
    "        super(BahdanauAttention, self).__init__()\n",
    "        self.w_dec = tf.keras.layers.Dense(units)\n",
    "        self.w_enc = tf.keras.layers.Dense(units)\n",
    "        self.w_com = tf.keras.layers.Dense(1)\n",
    "    \n",
    "    def call(self, h_enc, h_dec):\n",
    "        # h_enc shape: [batch x length x units]\n",
    "        # h_dec shape: [batch x units]\n",
    "\n",
    "        h_enc = self.w_enc(h_enc)\n",
    "        h_dec = tf.expand_dims(h_dec, 1)\n",
    "        h_dec = self.w_dec(h_dec)\n",
    "\n",
    "        score = self.w_com(tf.nn.tanh(h_dec + h_enc))\n",
    "        \n",
    "        attn = tf.nn.softmax(score, axis=1)\n",
    "\n",
    "        context_vec = attn * h_enc\n",
    "        context_vec = tf.reduce_sum(context_vec, axis=1)\n",
    "\n",
    "        return context_vec, attn"
   ]
  },
  {
   "cell_type": "code",
   "execution_count": 17,
   "id": "varied-uniform",
   "metadata": {},
   "outputs": [],
   "source": [
    "class Encoder(tf.keras.Model):\n",
    "    def __init__(self, vocab_size, embedding_dim, enc_units):\n",
    "        super(Encoder, self).__init__()\n",
    "        \n",
    "        self.enc_units = enc_units\n",
    "        self.embedding = tf.keras.layers.Embedding(vocab_size, embedding_dim)\n",
    "        self.gru = tf.keras.layers.GRU(enc_units,\n",
    "                                       return_sequences=True)\n",
    "        \n",
    "    def call(self, x):\n",
    "        out = self.embedding(x)\n",
    "        out = self.gru(out)\n",
    "        \n",
    "        return out"
   ]
  },
  {
   "cell_type": "code",
   "execution_count": 18,
   "id": "raising-employer",
   "metadata": {},
   "outputs": [],
   "source": [
    "class Decoder(tf.keras.Model):\n",
    "    def __init__(self, vocab_size, embedding_dim, dec_units):\n",
    "        super(Decoder, self).__init__()\n",
    "        self.dec_units = dec_units\n",
    "        self.embedding = tf.keras.layers.Embedding(vocab_size, embedding_dim)\n",
    "        self.gru = tf.keras.layers.GRU(dec_units,\n",
    "                                       return_sequences=True,\n",
    "                                       return_state=True)\n",
    "        self.fc = tf.keras.layers.Dense(vocab_size)\n",
    "\n",
    "        self.attention = BahdanauAttention(self.dec_units)\n",
    "\n",
    "    def call(self, x, h_dec, enc_out):\n",
    "        context_vec, attn = self.attention(enc_out, h_dec)\n",
    "\n",
    "        out = self.embedding(x)\n",
    "        out = tf.concat([tf.expand_dims(context_vec, 1), out], axis=-1)\n",
    "        \n",
    "        out, h_dec = self.gru(out)\n",
    "        out = tf.reshape(out, (-1, out.shape[2]))\n",
    "        out = self.fc(out)\n",
    "\n",
    "        return out, h_dec, attn"
   ]
  },
  {
   "cell_type": "code",
   "execution_count": 19,
   "id": "alike-terry",
   "metadata": {},
   "outputs": [
    {
     "name": "stdout",
     "output_type": "stream",
     "text": [
      "Encoder Output: (64, 30, 128)\n",
      "Decoder Output: (64, 16850)\n",
      "Decoder Hidden State: (64, 128)\n",
      "Attention: (64, 30, 1)\n"
     ]
    }
   ],
   "source": [
    "BATCH_SIZE     = 64\n",
    "SRC_VOCAB_SIZE = len(enc_tokenizer.index_word) + 1\n",
    "TGT_VOCAB_SIZE = len(dec_tokenizer.index_word) + 1\n",
    "\n",
    "units         = 128\n",
    "embedding_dim = 128\n",
    "\n",
    "encoder = Encoder(SRC_VOCAB_SIZE, embedding_dim, units)\n",
    "decoder = Decoder(TGT_VOCAB_SIZE, embedding_dim, units)\n",
    "\n",
    "# sample input\n",
    "sequence_len = 30\n",
    "\n",
    "sample_enc = tf.random.uniform((BATCH_SIZE, sequence_len))\n",
    "sample_output = encoder(sample_enc)\n",
    "\n",
    "print ('Encoder Output:', sample_output.shape)\n",
    "\n",
    "sample_state = tf.random.uniform((BATCH_SIZE, units))\n",
    "\n",
    "sample_logits, h_dec, attn = decoder(tf.random.uniform((BATCH_SIZE, 1)),\n",
    "                                     sample_state, sample_output)\n",
    "\n",
    "print ('Decoder Output:', sample_logits.shape)\n",
    "print ('Decoder Hidden State:', h_dec.shape)\n",
    "print ('Attention:', attn.shape)"
   ]
  },
  {
   "cell_type": "code",
   "execution_count": 20,
   "id": "brazilian-polish",
   "metadata": {},
   "outputs": [],
   "source": [
    "optimizer = tf.keras.optimizers.Adam()\n",
    "loss_object = tf.keras.losses.SparseCategoricalCrossentropy(\n",
    "    from_logits=True, reduction='none')\n",
    "\n",
    "def loss_function(real, pred):\n",
    "    mask = tf.math.logical_not(tf.math.equal(real, 0))\n",
    "    loss = loss_object(real, pred)\n",
    "    \n",
    "    mask = tf.cast(mask, dtype=loss.dtype)\n",
    "    loss *= mask\n",
    "    \n",
    "    return tf.reduce_mean(loss)"
   ]
  },
  {
   "cell_type": "code",
   "execution_count": 21,
   "id": "atlantic-astronomy",
   "metadata": {},
   "outputs": [],
   "source": [
    "@tf.function\n",
    "def train_step(src, tgt, encoder, decoder, optimizer, dec_tok):\n",
    "    bsz = src.shape[0]\n",
    "    loss = 0\n",
    "\n",
    "    with tf.GradientTape() as tape:\n",
    "        enc_out = encoder(src)\n",
    "        h_dec = enc_out[:, -1]\n",
    "        \n",
    "        dec_src = tf.expand_dims([dec_tok.word_index['<start>']] * bsz, 1)\n",
    "\n",
    "        for t in range(1, tgt.shape[1]):\n",
    "            pred, h_dec, _ = decoder(dec_src, h_dec, enc_out)\n",
    "\n",
    "            loss += loss_function(tgt[:, t], pred)\n",
    "            dec_src = tf.expand_dims(tgt[:, t], 1)\n",
    "        \n",
    "    batch_loss = (loss / int(tgt.shape[1]))\n",
    "\n",
    "    variables = encoder.trainable_variables + decoder.trainable_variables\n",
    "    gradients = tape.gradient(loss, variables)\n",
    "    optimizer.apply_gradients(zip(gradients, variables))\n",
    "    \n",
    "    return batch_loss"
   ]
  },
  {
   "cell_type": "code",
   "execution_count": 22,
   "id": "substantial-solomon",
   "metadata": {},
   "outputs": [],
   "source": [
    "def evaluate(sentence, encoder, decoder):\n",
    "    attention = np.zeros((dec_train.shape[-1], enc_train.shape[-1]))\n",
    "    \n",
    "    sentence = preprocess_sentence(sentence)\n",
    "    inputs = enc_tokenizer.texts_to_sequences([sentence.split()])\n",
    "    inputs = tf.keras.preprocessing.sequence.pad_sequences(inputs,\n",
    "                                                           maxlen=enc_train.shape[-1],\n",
    "                                                           padding='post')\n",
    "\n",
    "    result = ''\n",
    "\n",
    "    enc_out = encoder(inputs)\n",
    "\n",
    "    dec_hidden = enc_out[:, -1]\n",
    "    dec_input = tf.expand_dims([dec_tokenizer.word_index['<start>']], 0)\n",
    "\n",
    "    for t in range(dec_train.shape[-1]):\n",
    "        predictions, dec_hidden, attention_weights = decoder(dec_input,\n",
    "                                                             dec_hidden,\n",
    "                                                             enc_out)\n",
    "\n",
    "        attention_weights = tf.reshape(attention_weights, (-1, ))\n",
    "        attention[t] = attention_weights.numpy()\n",
    "\n",
    "        predicted_id = \\\n",
    "        tf.argmax(tf.math.softmax(predictions, axis=-1)[0]).numpy()\n",
    "\n",
    "        result += dec_tokenizer.index_word[predicted_id] + ' '\n",
    "\n",
    "        if dec_tokenizer.index_word[predicted_id] == '<end>':\n",
    "            return result, sentence, attention\n",
    "\n",
    "        dec_input = tf.expand_dims([predicted_id], 0)\n",
    "\n",
    "    return result, sentence, attention\n",
    "\n",
    "\n",
    "def plot_attention(attention, sentence, predicted_sentence):\n",
    "    fig = plt.figure(figsize=(10,10))\n",
    "    ax = fig.add_subplot(1, 1, 1)\n",
    "    ax.matshow(attention, cmap='viridis')\n",
    "\n",
    "    fontdict = {'fontsize': 14}\n",
    "\n",
    "    ax.set_xticklabels([''] + sentence, fontdict=fontdict, rotation=90)\n",
    "    ax.set_yticklabels([''] + predicted_sentence, fontdict=fontdict)\n",
    "\n",
    "    ax.xaxis.set_major_locator(ticker.MultipleLocator(1))\n",
    "    ax.yaxis.set_major_locator(ticker.MultipleLocator(1))\n",
    "\n",
    "    plt.show()\n",
    "\n",
    "\n",
    "def translate(sentence, encoder, decoder):\n",
    "    result, sentence, attention = evaluate(sentence, encoder, decoder)\n",
    "\n",
    "    print('Input: %s' % (sentence))\n",
    "    print('Predicted translation: {}'.format(result))\n",
    "    \n",
    "    #attention = attention[:len(result.split()), :len(sentence.split())]\n",
    "    #plot_attention(attention, sentence.split(), result.split(' '))"
   ]
  },
  {
   "cell_type": "code",
   "execution_count": 23,
   "id": "critical-climate",
   "metadata": {},
   "outputs": [],
   "source": [
    "example = {\"시민들은 도시 속에 산다.\",\"커피는 필요 없다.\",\"일곱 명의 사망자가 발생했다.\",\"오바마는 대통령이다.\"}"
   ]
  },
  {
   "cell_type": "markdown",
   "id": "golden-uncertainty",
   "metadata": {},
   "source": [
    "## 모델 학습"
   ]
  },
  {
   "cell_type": "code",
   "execution_count": 24,
   "id": "vital-substitute",
   "metadata": {},
   "outputs": [
    {
     "name": "stderr",
     "output_type": "stream",
     "text": [
      "Epoch  1: 100%|██████████| 204/204 [03:47<00:00,  1.11s/it, Loss 1.4594]\n",
      "Test Epoch  1: 100%|██████████| 51/51 [01:04<00:00,  1.26s/it, Test Loss 1.3909]\n",
      "  0%|          | 0/204 [00:00<?, ?it/s]"
     ]
    },
    {
     "name": "stdout",
     "output_type": "stream",
     "text": [
      "Input: 오바마는 대통령이다 .\n",
      "Predicted translation: <end> \n",
      "Input: 시민들은 도시 속에 산다 .\n",
      "Predicted translation: <end> \n",
      "Input: 커피는 필요 없다 .\n",
      "Predicted translation: <end> \n",
      "Input: 일곱 명의 사망자가 발생했다 .\n",
      "Predicted translation: <end> \n"
     ]
    },
    {
     "name": "stderr",
     "output_type": "stream",
     "text": [
      "Epoch  2: 100%|██████████| 204/204 [01:16<00:00,  2.67it/s, Loss 1.3807]\n",
      "Test Epoch  2: 100%|██████████| 51/51 [00:08<00:00,  6.37it/s, Test Loss 1.4008]\n",
      "  0%|          | 0/204 [00:00<?, ?it/s]"
     ]
    },
    {
     "name": "stdout",
     "output_type": "stream",
     "text": [
      "Input: 오바마는 대통령이다 .\n",
      "Predicted translation: <end> \n",
      "Input: 시민들은 도시 속에 산다 .\n",
      "Predicted translation: <end> \n",
      "Input: 커피는 필요 없다 .\n",
      "Predicted translation: <end> \n",
      "Input: 일곱 명의 사망자가 발생했다 .\n",
      "Predicted translation: <end> \n"
     ]
    },
    {
     "name": "stderr",
     "output_type": "stream",
     "text": [
      "Epoch  3: 100%|██████████| 204/204 [01:16<00:00,  2.67it/s, Loss 1.3801]\n",
      "Test Epoch  3: 100%|██████████| 51/51 [00:07<00:00,  6.39it/s, Test Loss 1.4052]\n"
     ]
    },
    {
     "name": "stdout",
     "output_type": "stream",
     "text": [
      "Input: 오바마는 대통령이다 .\n",
      "Predicted translation: . . . . . . . . . . . . . . . . . . . . . . . . . . . . . . . . . . . . . . . . . . . . . . . . . . . . . . . . . . . . . . . . . . . . . . . \n",
      "Input: 시민들은 도시 속에 산다 .\n",
      "Predicted translation: . . . . . . . . . . . . . . . . . . . . . . . . . . . . . . . . . . . . . . . . . . . . . . . . . . . . . . . . . . . . . . . . . . . . . . . \n",
      "Input: 커피는 필요 없다 .\n",
      "Predicted translation: . . . . . . . . . . . . . . . . . . . . . . . . . . . . . . . . . . . . . . . . . . . . . . . . . . . . . . . . . . . . . . . . . . . . . . . \n"
     ]
    },
    {
     "name": "stderr",
     "output_type": "stream",
     "text": [
      "  0%|          | 0/204 [00:00<?, ?it/s]"
     ]
    },
    {
     "name": "stdout",
     "output_type": "stream",
     "text": [
      "Input: 일곱 명의 사망자가 발생했다 .\n",
      "Predicted translation: . . . . . . . . . . . . . . . . . . . . . . . . . . . . . . . . . . . . . . . . . . . . . . . . . . . . . . . . . . . . . . . . . . . . . . . \n"
     ]
    },
    {
     "name": "stderr",
     "output_type": "stream",
     "text": [
      "Epoch  4: 100%|██████████| 204/204 [01:16<00:00,  2.67it/s, Loss 1.3804]\n",
      "Test Epoch  4: 100%|██████████| 51/51 [00:07<00:00,  6.40it/s, Test Loss 1.4096]\n",
      "  0%|          | 0/204 [00:00<?, ?it/s]"
     ]
    },
    {
     "name": "stdout",
     "output_type": "stream",
     "text": [
      "Input: 오바마는 대통령이다 .\n",
      "Predicted translation: <end> \n",
      "Input: 시민들은 도시 속에 산다 .\n",
      "Predicted translation: <end> \n",
      "Input: 커피는 필요 없다 .\n",
      "Predicted translation: <end> \n",
      "Input: 일곱 명의 사망자가 발생했다 .\n",
      "Predicted translation: <end> \n"
     ]
    },
    {
     "name": "stderr",
     "output_type": "stream",
     "text": [
      "Epoch  5: 100%|██████████| 204/204 [01:16<00:00,  2.68it/s, Loss 1.3801]\n",
      "Test Epoch  5: 100%|██████████| 51/51 [00:08<00:00,  6.37it/s, Test Loss 1.4120]\n",
      "  0%|          | 0/204 [00:00<?, ?it/s]"
     ]
    },
    {
     "name": "stdout",
     "output_type": "stream",
     "text": [
      "Input: 오바마는 대통령이다 .\n",
      "Predicted translation: <end> \n",
      "Input: 시민들은 도시 속에 산다 .\n",
      "Predicted translation: <end> \n",
      "Input: 커피는 필요 없다 .\n",
      "Predicted translation: <end> \n",
      "Input: 일곱 명의 사망자가 발생했다 .\n",
      "Predicted translation: <end> \n"
     ]
    },
    {
     "name": "stderr",
     "output_type": "stream",
     "text": [
      "Epoch  6: 100%|██████████| 204/204 [01:16<00:00,  2.68it/s, Loss 1.3799]\n",
      "Test Epoch  6: 100%|██████████| 51/51 [00:07<00:00,  6.40it/s, Test Loss 1.4153]\n"
     ]
    },
    {
     "name": "stdout",
     "output_type": "stream",
     "text": [
      "Input: 오바마는 대통령이다 .\n",
      "Predicted translation: . . . . . . . . . . . . . . . . . . . . . . . . . . . . . . . . . . . . . . . . . . . . . . . . . . . . . . . . . . . . . . . . . . . . . . . \n",
      "Input: 시민들은 도시 속에 산다 .\n",
      "Predicted translation: . . . . . . . . . . . . . . . . . . . . . . . . . . . . . . . . . . . . . . . . . . . . . . . . . . . . . . . . . . . . . . . . . . . . . . . \n",
      "Input: 커피는 필요 없다 .\n",
      "Predicted translation: . . . . . . . . . . . . . . . . . . . . . . . . . . . . . . . . . . . . . . . . . . . . . . . . . . . . . . . . . . . . . . . . . . . . . . . \n"
     ]
    },
    {
     "name": "stderr",
     "output_type": "stream",
     "text": [
      "  0%|          | 0/204 [00:00<?, ?it/s]"
     ]
    },
    {
     "name": "stdout",
     "output_type": "stream",
     "text": [
      "Input: 일곱 명의 사망자가 발생했다 .\n",
      "Predicted translation: . . . . . . . . . . . . . . . . . . . . . . . . . . . . . . . . . . . . . . . . . . . . . . . . . . . . . . . . . . . . . . . . . . . . . . . \n"
     ]
    },
    {
     "name": "stderr",
     "output_type": "stream",
     "text": [
      "Epoch  7: 100%|██████████| 204/204 [01:16<00:00,  2.67it/s, Loss 1.3803]\n",
      "Test Epoch  7: 100%|██████████| 51/51 [00:07<00:00,  6.41it/s, Test Loss 1.4169]\n",
      "  0%|          | 0/204 [00:00<?, ?it/s]"
     ]
    },
    {
     "name": "stdout",
     "output_type": "stream",
     "text": [
      "Input: 오바마는 대통령이다 .\n",
      "Predicted translation: <end> \n",
      "Input: 시민들은 도시 속에 산다 .\n",
      "Predicted translation: <end> \n",
      "Input: 커피는 필요 없다 .\n",
      "Predicted translation: <end> \n",
      "Input: 일곱 명의 사망자가 발생했다 .\n",
      "Predicted translation: <end> \n"
     ]
    },
    {
     "name": "stderr",
     "output_type": "stream",
     "text": [
      "Epoch  8: 100%|██████████| 204/204 [01:16<00:00,  2.68it/s, Loss 1.3801]\n",
      "Test Epoch  8: 100%|██████████| 51/51 [00:07<00:00,  6.40it/s, Test Loss 1.4181]\n",
      "  0%|          | 0/204 [00:00<?, ?it/s]"
     ]
    },
    {
     "name": "stdout",
     "output_type": "stream",
     "text": [
      "Input: 오바마는 대통령이다 .\n",
      "Predicted translation: <end> \n",
      "Input: 시민들은 도시 속에 산다 .\n",
      "Predicted translation: <end> \n",
      "Input: 커피는 필요 없다 .\n",
      "Predicted translation: <end> \n",
      "Input: 일곱 명의 사망자가 발생했다 .\n",
      "Predicted translation: <end> \n"
     ]
    },
    {
     "name": "stderr",
     "output_type": "stream",
     "text": [
      "Epoch  9: 100%|██████████| 204/204 [01:16<00:00,  2.68it/s, Loss 1.3801]\n",
      "Test Epoch  9: 100%|██████████| 51/51 [00:07<00:00,  6.39it/s, Test Loss 1.4202]\n",
      "  0%|          | 0/204 [00:00<?, ?it/s]"
     ]
    },
    {
     "name": "stdout",
     "output_type": "stream",
     "text": [
      "Input: 오바마는 대통령이다 .\n",
      "Predicted translation: <end> \n",
      "Input: 시민들은 도시 속에 산다 .\n",
      "Predicted translation: <end> \n",
      "Input: 커피는 필요 없다 .\n",
      "Predicted translation: <end> \n",
      "Input: 일곱 명의 사망자가 발생했다 .\n",
      "Predicted translation: <end> \n"
     ]
    },
    {
     "name": "stderr",
     "output_type": "stream",
     "text": [
      "Epoch 10: 100%|██████████| 204/204 [01:16<00:00,  2.67it/s, Loss 1.3799]\n",
      "Test Epoch 10: 100%|██████████| 51/51 [00:07<00:00,  6.38it/s, Test Loss 1.4211]\n",
      "  0%|          | 0/204 [00:00<?, ?it/s]"
     ]
    },
    {
     "name": "stdout",
     "output_type": "stream",
     "text": [
      "Input: 오바마는 대통령이다 .\n",
      "Predicted translation: <end> \n",
      "Input: 시민들은 도시 속에 산다 .\n",
      "Predicted translation: <end> \n",
      "Input: 커피는 필요 없다 .\n",
      "Predicted translation: <end> \n",
      "Input: 일곱 명의 사망자가 발생했다 .\n",
      "Predicted translation: <end> \n"
     ]
    },
    {
     "name": "stderr",
     "output_type": "stream",
     "text": [
      "Epoch 11: 100%|██████████| 204/204 [01:16<00:00,  2.68it/s, Loss 1.3796]\n",
      "Test Epoch 11: 100%|██████████| 51/51 [00:07<00:00,  6.41it/s, Test Loss 1.4212]\n"
     ]
    },
    {
     "name": "stdout",
     "output_type": "stream",
     "text": [
      "Input: 오바마는 대통령이다 .\n",
      "Predicted translation: the the the the the the the the the the the the the the the the the the the the the the the the the the the the the the the the the the the the the the the the the the the the the the the the the the the the the the the the the the the the the the the the the the the the the the the \n",
      "Input: 시민들은 도시 속에 산다 .\n",
      "Predicted translation: the the the the the the the the the the the the the the the the the the the the the the the the the the the the the the the the the the the the the the the the the the the the the the the the the the the the the the the the the the the the the the the the the the the the the the the \n",
      "Input: 커피는 필요 없다 .\n",
      "Predicted translation: the the the the the the the the the the the the the the the the the the the the the the the the the the the the the the the the the the the the the the the the the the the the the the the the the the the the the the the the the the the the the the the the the the the the the the the \n"
     ]
    },
    {
     "name": "stderr",
     "output_type": "stream",
     "text": [
      "  0%|          | 0/204 [00:00<?, ?it/s]"
     ]
    },
    {
     "name": "stdout",
     "output_type": "stream",
     "text": [
      "Input: 일곱 명의 사망자가 발생했다 .\n",
      "Predicted translation: the the the the the the the the the the the the the the the the the the the the the the the the the the the the the the the the the the the the the the the the the the the the the the the the the the the the the the the the the the the the the the the the the the the the the the the \n"
     ]
    },
    {
     "name": "stderr",
     "output_type": "stream",
     "text": [
      "Epoch 12: 100%|██████████| 204/204 [01:16<00:00,  2.68it/s, Loss 1.3428]\n",
      "Test Epoch 12: 100%|██████████| 51/51 [00:07<00:00,  6.40it/s, Test Loss 1.3286]\n"
     ]
    },
    {
     "name": "stdout",
     "output_type": "stream",
     "text": [
      "Input: 오바마는 대통령이다 .\n",
      "Predicted translation: the the the the the the the the the the the the the the the the the the the the the the the the the the the the the the the the the the the the the the the the the the the the the the the the the the the the the the the the the the the the the the the the the the the the the the the \n",
      "Input: 시민들은 도시 속에 산다 .\n",
      "Predicted translation: the the the the the the the the the the the the the the the the the the the the the the the the the the the the the the the the the the the the the the the the the the the the the the the the the the the the the the the the the the the the the the the the the the the the the the the \n",
      "Input: 커피는 필요 없다 .\n",
      "Predicted translation: the the the the the the the the the the the the the the the the the the the the the the the the the the the the the the the the the the the the the the the the the the the the the the the the the the the the the the the the the the the the the the the the the the the the the the the \n"
     ]
    },
    {
     "name": "stderr",
     "output_type": "stream",
     "text": [
      "  0%|          | 0/204 [00:00<?, ?it/s]"
     ]
    },
    {
     "name": "stdout",
     "output_type": "stream",
     "text": [
      "Input: 일곱 명의 사망자가 발생했다 .\n",
      "Predicted translation: the the the the the the the the the the the the the the the the the the the the the the the the the the the the the the the the the the the the the the the the the the the the the the the the the the the the the the the the the the the the the the the the the the the the the the the \n"
     ]
    },
    {
     "name": "stderr",
     "output_type": "stream",
     "text": [
      "Epoch 13: 100%|██████████| 204/204 [01:16<00:00,  2.68it/s, Loss 1.2735]\n",
      "Test Epoch 13: 100%|██████████| 51/51 [00:07<00:00,  6.39it/s, Test Loss 1.2978]\n"
     ]
    },
    {
     "name": "stdout",
     "output_type": "stream",
     "text": [
      "Input: 오바마는 대통령이다 .\n",
      "Predicted translation: the the the the the the the the the the the the the the the the the the the the the the the the the the the the the the the the the the the the the the the the the the the the the the the the the the the the the the the the the the the the the the the the the the the the the the the \n",
      "Input: 시민들은 도시 속에 산다 .\n",
      "Predicted translation: the the the the the the the the the the the the the the the the the the the the the the the the the the the the the the the the the the the the the the the the the the the the the the the the the the the the the the the the the the the the the the the the the the the the the the the \n",
      "Input: 커피는 필요 없다 .\n",
      "Predicted translation: the the the the the the the the the the the the the the the the the the the the the the the the the the the the the the the the the the the the the the the the the the the the the the the the the the the the the the the the the the the the the the the the the the the the the the the \n"
     ]
    },
    {
     "name": "stderr",
     "output_type": "stream",
     "text": [
      "  0%|          | 0/204 [00:00<?, ?it/s]"
     ]
    },
    {
     "name": "stdout",
     "output_type": "stream",
     "text": [
      "Input: 일곱 명의 사망자가 발생했다 .\n",
      "Predicted translation: the the the the the the the the the the the the the the the the the the the the the the the the the the the the the the the the the the the the the the the the the the the the the the the the the the the the the the the the the the the the the the the the the the the the the the the \n"
     ]
    },
    {
     "name": "stderr",
     "output_type": "stream",
     "text": [
      "Epoch 14: 100%|██████████| 204/204 [01:16<00:00,  2.67it/s, Loss 1.2355]\n",
      "Test Epoch 14: 100%|██████████| 51/51 [00:08<00:00,  6.36it/s, Test Loss 1.2725]\n",
      "  0%|          | 0/204 [00:00<?, ?it/s]"
     ]
    },
    {
     "name": "stdout",
     "output_type": "stream",
     "text": [
      "Input: 오바마는 대통령이다 .\n",
      "Predicted translation: the first . <end> \n",
      "Input: 시민들은 도시 속에 산다 .\n",
      "Predicted translation: the first . <end> \n",
      "Input: 커피는 필요 없다 .\n",
      "Predicted translation: the first . <end> \n",
      "Input: 일곱 명의 사망자가 발생했다 .\n",
      "Predicted translation: the first . <end> \n"
     ]
    },
    {
     "name": "stderr",
     "output_type": "stream",
     "text": [
      "Epoch 15: 100%|██████████| 204/204 [01:16<00:00,  2.66it/s, Loss 1.1976]\n",
      "Test Epoch 15: 100%|██████████| 51/51 [00:07<00:00,  6.40it/s, Test Loss 1.2480]\n",
      "  0%|          | 0/204 [00:00<?, ?it/s]"
     ]
    },
    {
     "name": "stdout",
     "output_type": "stream",
     "text": [
      "Input: 오바마는 대통령이다 .\n",
      "Predicted translation: the first . <end> \n",
      "Input: 시민들은 도시 속에 산다 .\n",
      "Predicted translation: the first . <end> \n",
      "Input: 커피는 필요 없다 .\n",
      "Predicted translation: the first . <end> \n",
      "Input: 일곱 명의 사망자가 발생했다 .\n",
      "Predicted translation: the first . <end> \n"
     ]
    },
    {
     "name": "stderr",
     "output_type": "stream",
     "text": [
      "Epoch 16: 100%|██████████| 204/204 [01:17<00:00,  2.63it/s, Loss 1.1600]\n",
      "Test Epoch 16: 100%|██████████| 51/51 [00:08<00:00,  6.32it/s, Test Loss 1.2341]\n",
      "  0%|          | 0/204 [00:00<?, ?it/s]"
     ]
    },
    {
     "name": "stdout",
     "output_type": "stream",
     "text": [
      "Input: 오바마는 대통령이다 .\n",
      "Predicted translation: the . <end> \n",
      "Input: 시민들은 도시 속에 산다 .\n",
      "Predicted translation: the . <end> \n",
      "Input: 커피는 필요 없다 .\n",
      "Predicted translation: the first . <end> \n",
      "Input: 일곱 명의 사망자가 발생했다 .\n",
      "Predicted translation: the first . <end> \n"
     ]
    },
    {
     "name": "stderr",
     "output_type": "stream",
     "text": [
      "Epoch 17: 100%|██████████| 204/204 [01:17<00:00,  2.65it/s, Loss 1.1265]\n",
      "Test Epoch 17: 100%|██████████| 51/51 [00:08<00:00,  6.33it/s, Test Loss 1.2237]\n",
      "  0%|          | 0/204 [00:00<?, ?it/s]"
     ]
    },
    {
     "name": "stdout",
     "output_type": "stream",
     "text": [
      "Input: 오바마는 대통령이다 .\n",
      "Predicted translation: the first . <end> \n",
      "Input: 시민들은 도시 속에 산다 .\n",
      "Predicted translation: the first year . <end> \n",
      "Input: 커피는 필요 없다 .\n",
      "Predicted translation: the first . <end> \n",
      "Input: 일곱 명의 사망자가 발생했다 .\n",
      "Predicted translation: the first year . <end> \n"
     ]
    },
    {
     "name": "stderr",
     "output_type": "stream",
     "text": [
      "Epoch 18: 100%|██████████| 204/204 [01:17<00:00,  2.64it/s, Loss 1.0960]\n",
      "Test Epoch 18: 100%|██████████| 51/51 [00:07<00:00,  6.38it/s, Test Loss 1.2178]\n",
      "  0%|          | 0/204 [00:00<?, ?it/s]"
     ]
    },
    {
     "name": "stdout",
     "output_type": "stream",
     "text": [
      "Input: 오바마는 대통령이다 .\n",
      "Predicted translation: the first time . <end> \n",
      "Input: 시민들은 도시 속에 산다 .\n",
      "Predicted translation: the first time . <end> \n",
      "Input: 커피는 필요 없다 .\n",
      "Predicted translation: he s . <end> \n",
      "Input: 일곱 명의 사망자가 발생했다 .\n",
      "Predicted translation: the first year . <end> \n"
     ]
    },
    {
     "name": "stderr",
     "output_type": "stream",
     "text": [
      "Epoch 19: 100%|██████████| 204/204 [01:16<00:00,  2.66it/s, Loss 1.0677]\n",
      "Test Epoch 19: 100%|██████████| 51/51 [00:08<00:00,  6.13it/s, Test Loss 1.2148]\n"
     ]
    },
    {
     "name": "stdout",
     "output_type": "stream",
     "text": [
      "Input: 오바마는 대통령이다 .\n",
      "Predicted translation: the first . <end> \n",
      "Input: 시민들은 도시 속에 산다 .\n",
      "Predicted translation: the first , and the first year old . <end> \n",
      "Input: 커피는 필요 없다 .\n",
      "Predicted translation: he is a new york , he s . <end> \n"
     ]
    },
    {
     "name": "stderr",
     "output_type": "stream",
     "text": [
      "  0%|          | 0/204 [00:00<?, ?it/s]"
     ]
    },
    {
     "name": "stdout",
     "output_type": "stream",
     "text": [
      "Input: 일곱 명의 사망자가 발생했다 .\n",
      "Predicted translation: the first , the first , the first , the first , the first , the first , the first , the first , the first , the first , the first , the first , the first , the first , the first , the first , the first , the first , the first , the first , the first , the first , the first , the first \n"
     ]
    },
    {
     "name": "stderr",
     "output_type": "stream",
     "text": [
      "Epoch 20: 100%|██████████| 204/204 [01:24<00:00,  2.40it/s, Loss 1.0399]\n",
      "Test Epoch 20: 100%|██████████| 51/51 [00:08<00:00,  5.99it/s, Test Loss 1.2141]\n",
      "  0%|          | 0/204 [00:00<?, ?it/s]"
     ]
    },
    {
     "name": "stdout",
     "output_type": "stream",
     "text": [
      "Input: 오바마는 대통령이다 .\n",
      "Predicted translation: the ap s . <end> \n",
      "Input: 시민들은 도시 속에 산다 .\n",
      "Predicted translation: the ap s . <end> \n",
      "Input: 커피는 필요 없다 .\n",
      "Predicted translation: i m . <end> \n",
      "Input: 일곱 명의 사망자가 발생했다 .\n",
      "Predicted translation: the u . s . <end> \n"
     ]
    },
    {
     "name": "stderr",
     "output_type": "stream",
     "text": [
      "Epoch 21: 100%|██████████| 204/204 [01:18<00:00,  2.61it/s, Loss 1.0135]\n",
      "Test Epoch 21: 100%|██████████| 51/51 [00:08<00:00,  6.35it/s, Test Loss 1.2143]\n",
      "  0%|          | 0/204 [00:00<?, ?it/s]"
     ]
    },
    {
     "name": "stdout",
     "output_type": "stream",
     "text": [
      "Input: 오바마는 대통령이다 .\n",
      "Predicted translation: the ap s . <end> \n",
      "Input: 시민들은 도시 속에 산다 .\n",
      "Predicted translation: the ap s . <end> \n",
      "Input: 커피는 필요 없다 .\n",
      "Predicted translation: it s . <end> \n",
      "Input: 일곱 명의 사망자가 발생했다 .\n",
      "Predicted translation: the first time . <end> \n"
     ]
    },
    {
     "name": "stderr",
     "output_type": "stream",
     "text": [
      "Epoch 22: 100%|██████████| 204/204 [01:16<00:00,  2.67it/s, Loss 0.9881]\n",
      "Test Epoch 22: 100%|██████████| 51/51 [00:08<00:00,  6.37it/s, Test Loss 1.2175]\n",
      "  0%|          | 0/204 [00:00<?, ?it/s]"
     ]
    },
    {
     "name": "stdout",
     "output_type": "stream",
     "text": [
      "Input: 오바마는 대통령이다 .\n",
      "Predicted translation: . <end> \n",
      "Input: 시민들은 도시 속에 산다 .\n",
      "Predicted translation: the ap s . <end> \n",
      "Input: 커피는 필요 없다 .\n",
      "Predicted translation: i can be a lot of the world <end> \n",
      "Input: 일곱 명의 사망자가 발생했다 .\n",
      "Predicted translation: the ap s . <end> \n"
     ]
    },
    {
     "name": "stderr",
     "output_type": "stream",
     "text": [
      "Epoch 23: 100%|██████████| 204/204 [01:16<00:00,  2.68it/s, Loss 0.9639]\n",
      "Test Epoch 23: 100%|██████████| 51/51 [00:08<00:00,  6.36it/s, Test Loss 1.2208]\n",
      "  0%|          | 0/204 [00:00<?, ?it/s]"
     ]
    },
    {
     "name": "stdout",
     "output_type": "stream",
     "text": [
      "Input: 오바마는 대통령이다 .\n",
      "Predicted translation: . <end> \n",
      "Input: 시민들은 도시 속에 산다 .\n",
      "Predicted translation: . <end> \n",
      "Input: 커피는 필요 없다 .\n",
      "Predicted translation: i m . <end> \n",
      "Input: 일곱 명의 사망자가 발생했다 .\n",
      "Predicted translation: the ap s . <end> \n"
     ]
    },
    {
     "name": "stderr",
     "output_type": "stream",
     "text": [
      "Epoch 24: 100%|██████████| 204/204 [01:16<00:00,  2.67it/s, Loss 0.9404]\n",
      "Test Epoch 24: 100%|██████████| 51/51 [00:07<00:00,  6.41it/s, Test Loss 1.2257]\n",
      "  0%|          | 0/204 [00:00<?, ?it/s]"
     ]
    },
    {
     "name": "stdout",
     "output_type": "stream",
     "text": [
      "Input: 오바마는 대통령이다 .\n",
      "Predicted translation: . <end> \n",
      "Input: 시민들은 도시 속에 산다 .\n",
      "Predicted translation: . <end> \n",
      "Input: 커피는 필요 없다 .\n",
      "Predicted translation: i think you can be a lot . <end> \n",
      "Input: 일곱 명의 사망자가 발생했다 .\n",
      "Predicted translation: the ap s . <end> \n"
     ]
    },
    {
     "name": "stderr",
     "output_type": "stream",
     "text": [
      "Epoch 25: 100%|██████████| 204/204 [01:16<00:00,  2.68it/s, Loss 0.9178]\n",
      "Test Epoch 25: 100%|██████████| 51/51 [00:08<00:00,  6.35it/s, Test Loss 1.2319]\n"
     ]
    },
    {
     "name": "stdout",
     "output_type": "stream",
     "text": [
      "Input: 오바마는 대통령이다 .\n",
      "Predicted translation: . <end> \n",
      "Input: 시민들은 도시 속에 산다 .\n",
      "Predicted translation: . <end> \n"
     ]
    },
    {
     "name": "stderr",
     "output_type": "stream",
     "text": [
      "  0%|          | 0/204 [00:00<?, ?it/s]"
     ]
    },
    {
     "name": "stdout",
     "output_type": "stream",
     "text": [
      "Input: 커피는 필요 없다 .\n",
      "Predicted translation: i can be a lot to be a lot to be a lot to be a lot to be a lot to be a lot to be a lot to be a lot to be a lot to be a lot to be a lot to be a lot to be a lot to be a lot to be a lot to be a lot to be a lot to be \n",
      "Input: 일곱 명의 사망자가 발생했다 .\n",
      "Predicted translation: the ap s . <end> \n"
     ]
    },
    {
     "name": "stderr",
     "output_type": "stream",
     "text": [
      "Epoch 26: 100%|██████████| 204/204 [01:16<00:00,  2.68it/s, Loss 0.8960]\n",
      "Test Epoch 26: 100%|██████████| 51/51 [00:08<00:00,  6.33it/s, Test Loss 1.2390]\n"
     ]
    },
    {
     "name": "stdout",
     "output_type": "stream",
     "text": [
      "Input: 오바마는 대통령이다 .\n",
      "Predicted translation: . <end> \n",
      "Input: 시민들은 도시 속에 산다 .\n",
      "Predicted translation: . <end> \n"
     ]
    },
    {
     "name": "stderr",
     "output_type": "stream",
     "text": [
      "  0%|          | 0/204 [00:00<?, ?it/s]"
     ]
    },
    {
     "name": "stdout",
     "output_type": "stream",
     "text": [
      "Input: 커피는 필요 없다 .\n",
      "Predicted translation: i can be a lot to be a lot to be a lot to be a lot to be a lot to be a lot to be a lot to be a lot to be a lot to be a lot to be a lot to be a lot to be a lot to be a lot to be a lot to be a lot to be a lot to be \n",
      "Input: 일곱 명의 사망자가 발생했다 .\n",
      "Predicted translation: the ap s . <end> \n"
     ]
    },
    {
     "name": "stderr",
     "output_type": "stream",
     "text": [
      "Epoch 27: 100%|██████████| 204/204 [01:16<00:00,  2.68it/s, Loss 0.8751]\n",
      "Test Epoch 27: 100%|██████████| 51/51 [00:07<00:00,  6.39it/s, Test Loss 1.2455]\n"
     ]
    },
    {
     "name": "stdout",
     "output_type": "stream",
     "text": [
      "Input: 오바마는 대통령이다 .\n",
      "Predicted translation: . <end> \n",
      "Input: 시민들은 도시 속에 산다 .\n",
      "Predicted translation: . <end> \n"
     ]
    },
    {
     "name": "stderr",
     "output_type": "stream",
     "text": [
      "  0%|          | 0/204 [00:00<?, ?it/s]"
     ]
    },
    {
     "name": "stdout",
     "output_type": "stream",
     "text": [
      "Input: 커피는 필요 없다 .\n",
      "Predicted translation: you can be a lot to be a lot to be a lot to be a lot to be a lot to be a lot to be a lot to be a lot to be a lot to be a lot to be a lot to be a lot to be a lot to be a lot to be a lot to be a lot to be a lot to be \n",
      "Input: 일곱 명의 사망자가 발생했다 .\n",
      "Predicted translation: of the first time . <end> \n"
     ]
    },
    {
     "name": "stderr",
     "output_type": "stream",
     "text": [
      "Epoch 28: 100%|██████████| 204/204 [01:16<00:00,  2.68it/s, Loss 0.8545]\n",
      "Test Epoch 28: 100%|██████████| 51/51 [00:07<00:00,  6.39it/s, Test Loss 1.2528]\n",
      "  0%|          | 0/204 [00:00<?, ?it/s]"
     ]
    },
    {
     "name": "stdout",
     "output_type": "stream",
     "text": [
      "Input: 오바마는 대통령이다 .\n",
      "Predicted translation: . <end> \n",
      "Input: 시민들은 도시 속에 산다 .\n",
      "Predicted translation: . <end> \n",
      "Input: 커피는 필요 없다 .\n",
      "Predicted translation: you can be a lot to get out <end> \n",
      "Input: 일곱 명의 사망자가 발생했다 .\n",
      "Predicted translation: the ap s . <end> \n"
     ]
    },
    {
     "name": "stderr",
     "output_type": "stream",
     "text": [
      "Epoch 29: 100%|██████████| 204/204 [01:16<00:00,  2.68it/s, Loss 0.8344]\n",
      "Test Epoch 29: 100%|██████████| 51/51 [00:07<00:00,  6.39it/s, Test Loss 1.2630]\n"
     ]
    },
    {
     "name": "stdout",
     "output_type": "stream",
     "text": [
      "Input: 오바마는 대통령이다 .\n",
      "Predicted translation: . <end> \n",
      "Input: 시민들은 도시 속에 산다 .\n",
      "Predicted translation: . <end> \n"
     ]
    },
    {
     "name": "stderr",
     "output_type": "stream",
     "text": [
      "  0%|          | 0/204 [00:00<?, ?it/s]"
     ]
    },
    {
     "name": "stdout",
     "output_type": "stream",
     "text": [
      "Input: 커피는 필요 없다 .\n",
      "Predicted translation: you can be a lot to get a lot to get a lot to get a lot to get a lot to get a lot to get a lot to get a lot to get a lot to get a lot to get a lot to get a lot to get a lot to get a lot to get a lot to get a lot to get a lot to get \n",
      "Input: 일곱 명의 사망자가 발생했다 .\n",
      "Predicted translation: the ap s . <end> \n"
     ]
    },
    {
     "name": "stderr",
     "output_type": "stream",
     "text": [
      "Epoch 30: 100%|██████████| 204/204 [01:16<00:00,  2.68it/s, Loss 0.8152]\n",
      "Test Epoch 30: 100%|██████████| 51/51 [00:07<00:00,  6.38it/s, Test Loss 1.2720]\n"
     ]
    },
    {
     "name": "stdout",
     "output_type": "stream",
     "text": [
      "Input: 오바마는 대통령이다 .\n",
      "Predicted translation: . <end> \n",
      "Input: 시민들은 도시 속에 산다 .\n",
      "Predicted translation: . <end> \n",
      "Input: 커피는 필요 없다 .\n",
      "Predicted translation: you re not to be a lot <end> \n",
      "Input: 일곱 명의 사망자가 발생했다 .\n",
      "Predicted translation: in the first time . <end> \n"
     ]
    }
   ],
   "source": [
    "# Define eval_step\n",
    "\n",
    "@tf.function\n",
    "def eval_step(src, tgt, encoder, decoder, dec_tok):\n",
    "    bsz = src.shape[0]\n",
    "    loss = 0\n",
    "\n",
    "    enc_out = encoder(src)\n",
    "\n",
    "    h_dec = enc_out[:, -1]\n",
    "    \n",
    "    dec_src = tf.expand_dims([dec_tok.word_index['<start>']] * bsz, 1)\n",
    "\n",
    "    for t in range(1, tgt.shape[1]):\n",
    "        pred, h_dec, _ = decoder(dec_src, h_dec, enc_out)\n",
    "\n",
    "        loss += loss_function(tgt[:, t], pred)\n",
    "        dec_src = tf.expand_dims(tgt[:, t], 1)\n",
    "        \n",
    "    batch_loss = (loss / int(tgt.shape[1]))\n",
    "    \n",
    "    return batch_loss\n",
    "\n",
    "\n",
    "# Training Process\n",
    "\n",
    "from tqdm import tqdm\n",
    "\n",
    "EPOCHS = 30\n",
    "\n",
    "for epoch in range(EPOCHS):\n",
    "    total_loss = 0\n",
    "    \n",
    "    idx_list = list(range(0, enc_train.shape[0], BATCH_SIZE))\n",
    "    random.shuffle(idx_list)\n",
    "    t = tqdm(idx_list)\n",
    "\n",
    "    for (batch, idx) in enumerate(t):\n",
    "        batch_loss = train_step(enc_train[idx:idx+BATCH_SIZE],\n",
    "                                dec_train[idx:idx+BATCH_SIZE],\n",
    "                                encoder,\n",
    "                                decoder,\n",
    "                                optimizer,\n",
    "                                dec_tokenizer)\n",
    "    \n",
    "        total_loss += batch_loss\n",
    "        \n",
    "        t.set_description_str('Epoch %2d' % (epoch + 1))\n",
    "        t.set_postfix_str('Loss %.4f' % (total_loss.numpy() / (batch + 1)))\n",
    "    \n",
    "    test_loss = 0\n",
    "    \n",
    "    idx_list = list(range(0, enc_val.shape[0], BATCH_SIZE))\n",
    "    random.shuffle(idx_list)\n",
    "    t = tqdm(idx_list)\n",
    "\n",
    "    for (test_batch, idx) in enumerate(t):\n",
    "        test_batch_loss = eval_step(enc_val[idx:idx+BATCH_SIZE],\n",
    "                                    dec_val[idx:idx+BATCH_SIZE],\n",
    "                                    encoder,\n",
    "                                    decoder,\n",
    "                                    dec_tokenizer)\n",
    "    \n",
    "        test_loss += test_batch_loss\n",
    "\n",
    "        t.set_description_str('Test Epoch %2d' % (epoch + 1))\n",
    "        t.set_postfix_str('Test Loss %.4f' % (test_loss.numpy() / (test_batch + 1)))\n",
    "        \n",
    "    for sen in example :\n",
    "        translate(sen, encoder, decoder)"
   ]
  },
  {
   "cell_type": "code",
   "execution_count": 25,
   "id": "severe-automation",
   "metadata": {},
   "outputs": [
    {
     "name": "stdout",
     "output_type": "stream",
     "text": [
      "Input: 시민들은 도시 속에 산다 .\n",
      "Predicted translation: . <end> \n"
     ]
    }
   ],
   "source": [
    "translate(\"시민들은 도시 속에 산다.\", encoder, decoder)"
   ]
  },
  {
   "cell_type": "code",
   "execution_count": 26,
   "id": "useful-friday",
   "metadata": {},
   "outputs": [
    {
     "name": "stdout",
     "output_type": "stream",
     "text": [
      "Input: 커피는 필요 없다 .\n",
      "Predicted translation: you re not to be a lot <end> \n"
     ]
    }
   ],
   "source": [
    "translate(\"커피는 필요 없다.\", encoder, decoder)"
   ]
  },
  {
   "cell_type": "code",
   "execution_count": 27,
   "id": "identical-broadcast",
   "metadata": {},
   "outputs": [
    {
     "name": "stdout",
     "output_type": "stream",
     "text": [
      "Input: 일곱 명의 사망자가 발생했다 .\n",
      "Predicted translation: in the first time . <end> \n"
     ]
    }
   ],
   "source": [
    "translate(\"일곱 명의 사망자가 발생했다.\", encoder, decoder)"
   ]
  },
  {
   "cell_type": "code",
   "execution_count": 28,
   "id": "destroyed-floating",
   "metadata": {},
   "outputs": [
    {
     "name": "stdout",
     "output_type": "stream",
     "text": [
      "Input: 오바마는 대통령이다 .\n",
      "Predicted translation: . <end> \n"
     ]
    }
   ],
   "source": [
    "translate(\"오바마는 대통령이다.\", encoder, decoder)"
   ]
  },
  {
   "cell_type": "code",
   "execution_count": 29,
   "id": "hindu-national",
   "metadata": {},
   "outputs": [
    {
     "name": "stderr",
     "output_type": "stream",
     "text": [
      "Epoch  1: 100%|██████████| 204/204 [01:16<00:00,  2.67it/s, Loss 0.7967]\n",
      "Test Epoch  1: 100%|██████████| 51/51 [00:07<00:00,  6.40it/s, Test Loss 1.2808]\n"
     ]
    },
    {
     "name": "stdout",
     "output_type": "stream",
     "text": [
      "Input: 오바마는 대통령이다 .\n",
      "Predicted translation: . <end> \n",
      "Input: 시민들은 도시 속에 산다 .\n",
      "Predicted translation: . <end> \n",
      "Input: 커피는 필요 없다 .\n",
      "Predicted translation: <end> \n"
     ]
    },
    {
     "name": "stderr",
     "output_type": "stream",
     "text": [
      "  0%|          | 0/204 [00:00<?, ?it/s]"
     ]
    },
    {
     "name": "stdout",
     "output_type": "stream",
     "text": [
      "Input: 일곱 명의 사망자가 발생했다 .\n",
      "Predicted translation: in the first of the first of the first of the first of the first of the first of the first of the first of the first of the first of the first of the first of the first of the first of the first of the first of the first of the first of the first of the first of the first of the first of the first of the \n"
     ]
    },
    {
     "name": "stderr",
     "output_type": "stream",
     "text": [
      "Epoch  2: 100%|██████████| 204/204 [01:16<00:00,  2.68it/s, Loss 0.7790]\n",
      "Test Epoch  2: 100%|██████████| 51/51 [00:08<00:00,  6.36it/s, Test Loss 1.2904]\n",
      "  0%|          | 0/204 [00:00<?, ?it/s]"
     ]
    },
    {
     "name": "stdout",
     "output_type": "stream",
     "text": [
      "Input: 오바마는 대통령이다 .\n",
      "Predicted translation: . . <end> \n",
      "Input: 시민들은 도시 속에 산다 .\n",
      "Predicted translation: . <end> \n",
      "Input: 커피는 필요 없다 .\n",
      "Predicted translation: <end> \n",
      "Input: 일곱 명의 사망자가 발생했다 .\n",
      "Predicted translation: of the year . <end> \n"
     ]
    },
    {
     "name": "stderr",
     "output_type": "stream",
     "text": [
      "Epoch  3: 100%|██████████| 204/204 [01:16<00:00,  2.67it/s, Loss 0.7613]\n",
      "Test Epoch  3: 100%|██████████| 51/51 [00:07<00:00,  6.38it/s, Test Loss 1.2966]\n",
      "  0%|          | 0/204 [00:00<?, ?it/s]"
     ]
    },
    {
     "name": "stdout",
     "output_type": "stream",
     "text": [
      "Input: 오바마는 대통령이다 .\n",
      "Predicted translation: . . <end> \n",
      "Input: 시민들은 도시 속에 산다 .\n",
      "Predicted translation: . <end> \n",
      "Input: 커피는 필요 없다 .\n",
      "Predicted translation: <end> \n",
      "Input: 일곱 명의 사망자가 발생했다 .\n",
      "Predicted translation: authorities have been told cnn . <end> \n"
     ]
    },
    {
     "name": "stderr",
     "output_type": "stream",
     "text": [
      "Epoch  4: 100%|██████████| 204/204 [01:16<00:00,  2.68it/s, Loss 0.7439]\n",
      "Test Epoch  4: 100%|██████████| 51/51 [00:07<00:00,  6.38it/s, Test Loss 1.3074]\n",
      "  0%|          | 0/204 [00:00<?, ?it/s]"
     ]
    },
    {
     "name": "stdout",
     "output_type": "stream",
     "text": [
      "Input: 오바마는 대통령이다 .\n",
      "Predicted translation: . . <end> \n",
      "Input: 시민들은 도시 속에 산다 .\n",
      "Predicted translation: the ap s . <end> \n",
      "Input: 커피는 필요 없다 .\n",
      "Predicted translation: <end> \n",
      "Input: 일곱 명의 사망자가 발생했다 .\n",
      "Predicted translation: two of the year . <end> \n"
     ]
    },
    {
     "name": "stderr",
     "output_type": "stream",
     "text": [
      "Epoch  5: 100%|██████████| 204/204 [01:16<00:00,  2.67it/s, Loss 0.7277]\n",
      "Test Epoch  5: 100%|██████████| 51/51 [00:07<00:00,  6.38it/s, Test Loss 1.3153]\n",
      "  0%|          | 0/204 [00:00<?, ?it/s]"
     ]
    },
    {
     "name": "stdout",
     "output_type": "stream",
     "text": [
      "Input: 오바마는 대통령이다 .\n",
      "Predicted translation: . . <end> \n",
      "Input: 시민들은 도시 속에 산다 .\n",
      "Predicted translation: . . <end> \n",
      "Input: 커피는 필요 없다 .\n",
      "Predicted translation: <end> \n",
      "Input: 일곱 명의 사망자가 발생했다 .\n",
      "Predicted translation: authorities said . <end> \n"
     ]
    },
    {
     "name": "stderr",
     "output_type": "stream",
     "text": [
      "Epoch  6: 100%|██████████| 204/204 [01:16<00:00,  2.67it/s, Loss 0.7115]\n",
      "Test Epoch  6: 100%|██████████| 51/51 [00:07<00:00,  6.39it/s, Test Loss 1.3273]\n",
      "  0%|          | 0/204 [00:00<?, ?it/s]"
     ]
    },
    {
     "name": "stdout",
     "output_type": "stream",
     "text": [
      "Input: 오바마는 대통령이다 .\n",
      "Predicted translation: . . <end> \n",
      "Input: 시민들은 도시 속에 산다 .\n",
      "Predicted translation: the ap s . <end> \n",
      "Input: 커피는 필요 없다 .\n",
      "Predicted translation: you <end> \n",
      "Input: 일곱 명의 사망자가 발생했다 .\n",
      "Predicted translation: authorities say is the president of the year . <end> \n"
     ]
    },
    {
     "name": "stderr",
     "output_type": "stream",
     "text": [
      "Epoch  7: 100%|██████████| 204/204 [01:16<00:00,  2.67it/s, Loss 0.6959]\n",
      "Test Epoch  7: 100%|██████████| 51/51 [00:07<00:00,  6.40it/s, Test Loss 1.3361]\n",
      "  0%|          | 0/204 [00:00<?, ?it/s]"
     ]
    },
    {
     "name": "stdout",
     "output_type": "stream",
     "text": [
      "Input: 오바마는 대통령이다 .\n",
      "Predicted translation: . . <end> \n",
      "Input: 시민들은 도시 속에 산다 .\n",
      "Predicted translation: . . <end> \n",
      "Input: 커피는 필요 없다 .\n",
      "Predicted translation: you can be a lot <end> \n",
      "Input: 일곱 명의 사망자가 발생했다 .\n",
      "Predicted translation: authorities said . <end> \n"
     ]
    },
    {
     "name": "stderr",
     "output_type": "stream",
     "text": [
      "Epoch  8: 100%|██████████| 204/204 [01:16<00:00,  2.67it/s, Loss 0.6814]\n",
      "Test Epoch  8: 100%|██████████| 51/51 [00:07<00:00,  6.40it/s, Test Loss 1.3452]\n",
      "  0%|          | 0/204 [00:00<?, ?it/s]"
     ]
    },
    {
     "name": "stdout",
     "output_type": "stream",
     "text": [
      "Input: 오바마는 대통령이다 .\n",
      "Predicted translation: . . <end> \n",
      "Input: 시민들은 도시 속에 산다 .\n",
      "Predicted translation: . . <end> \n",
      "Input: 커피는 필요 없다 .\n",
      "Predicted translation: you want to get a lot <end> \n",
      "Input: 일곱 명의 사망자가 발생했다 .\n",
      "Predicted translation: authorities have no more than , is the . <end> \n"
     ]
    },
    {
     "name": "stderr",
     "output_type": "stream",
     "text": [
      "Epoch  9: 100%|██████████| 204/204 [01:16<00:00,  2.67it/s, Loss 0.6668]\n",
      "Test Epoch  9: 100%|██████████| 51/51 [00:07<00:00,  6.39it/s, Test Loss 1.3557]\n",
      "  0%|          | 0/204 [00:00<?, ?it/s]"
     ]
    },
    {
     "name": "stdout",
     "output_type": "stream",
     "text": [
      "Input: 오바마는 대통령이다 .\n",
      "Predicted translation: . . <end> \n",
      "Input: 시민들은 도시 속에 산다 .\n",
      "Predicted translation: the ap s . <end> \n",
      "Input: 커피는 필요 없다 .\n",
      "Predicted translation: you know how to do you <end> \n",
      "Input: 일곱 명의 사망자가 발생했다 .\n",
      "Predicted translation: authorities say is the . <end> \n"
     ]
    },
    {
     "name": "stderr",
     "output_type": "stream",
     "text": [
      "Epoch 10: 100%|██████████| 204/204 [01:16<00:00,  2.68it/s, Loss 0.6524]\n",
      "Test Epoch 10: 100%|██████████| 51/51 [00:07<00:00,  6.38it/s, Test Loss 1.3647]\n"
     ]
    },
    {
     "name": "stdout",
     "output_type": "stream",
     "text": [
      "Input: 오바마는 대통령이다 .\n",
      "Predicted translation: . . <end> \n",
      "Input: 시민들은 도시 속에 산다 .\n",
      "Predicted translation: the ap s . <end> \n",
      "Input: 커피는 필요 없다 .\n",
      "Predicted translation: you <end> \n"
     ]
    },
    {
     "name": "stderr",
     "output_type": "stream",
     "text": [
      "  0%|          | 0/204 [00:00<?, ?it/s]"
     ]
    },
    {
     "name": "stdout",
     "output_type": "stream",
     "text": [
      "Input: 일곱 명의 사망자가 발생했다 .\n",
      "Predicted translation: authorities are not in the cause of the cause of the cause of the cause of the cause of the cause of the cause of the cause of the cause of the cause of the cause of the cause of the cause of the cause of the cause of the cause of the cause of the cause of the cause of the cause of the cause of the cause of the \n"
     ]
    },
    {
     "name": "stderr",
     "output_type": "stream",
     "text": [
      "Epoch 11: 100%|██████████| 204/204 [01:16<00:00,  2.68it/s, Loss 0.6384]\n",
      "Test Epoch 11: 100%|██████████| 51/51 [00:07<00:00,  6.39it/s, Test Loss 1.3752]\n",
      "  0%|          | 0/204 [00:00<?, ?it/s]"
     ]
    },
    {
     "name": "stdout",
     "output_type": "stream",
     "text": [
      "Input: 오바마는 대통령이다 .\n",
      "Predicted translation: . i m be a very big . <end> \n",
      "Input: 시민들은 도시 속에 산다 .\n",
      "Predicted translation: the ap s . <end> \n",
      "Input: 커피는 필요 없다 .\n",
      "Predicted translation: you can be a little <end> \n",
      "Input: 일곱 명의 사망자가 발생했다 .\n",
      "Predicted translation: two of the hospital s ministry of . <end> \n"
     ]
    },
    {
     "name": "stderr",
     "output_type": "stream",
     "text": [
      "Epoch 12: 100%|██████████| 204/204 [01:16<00:00,  2.67it/s, Loss 0.6255]\n",
      "Test Epoch 12: 100%|██████████| 51/51 [00:07<00:00,  6.40it/s, Test Loss 1.3847]\n",
      "  0%|          | 0/204 [00:00<?, ?it/s]"
     ]
    },
    {
     "name": "stdout",
     "output_type": "stream",
     "text": [
      "Input: 오바마는 대통령이다 .\n",
      "Predicted translation: . . <end> \n",
      "Input: 시민들은 도시 속에 산다 .\n",
      "Predicted translation: the ap s . <end> \n",
      "Input: 커피는 필요 없다 .\n",
      "Predicted translation: you <end> \n",
      "Input: 일곱 명의 사망자가 발생했다 .\n",
      "Predicted translation: two of the city of . <end> \n"
     ]
    },
    {
     "name": "stderr",
     "output_type": "stream",
     "text": [
      "Epoch 13: 100%|██████████| 204/204 [01:16<00:00,  2.68it/s, Loss 0.6132]\n",
      "Test Epoch 13: 100%|██████████| 51/51 [00:07<00:00,  6.40it/s, Test Loss 1.3941]\n",
      "  0%|          | 0/204 [00:00<?, ?it/s]"
     ]
    },
    {
     "name": "stdout",
     "output_type": "stream",
     "text": [
      "Input: 오바마는 대통령이다 .\n",
      "Predicted translation: . . <end> \n",
      "Input: 시민들은 도시 속에 산다 .\n",
      "Predicted translation: the ap s . <end> \n",
      "Input: 커피는 필요 없다 .\n",
      "Predicted translation: you <end> \n",
      "Input: 일곱 명의 사망자가 발생했다 .\n",
      "Predicted translation: many of the cause of the cause of . <end> \n"
     ]
    },
    {
     "name": "stderr",
     "output_type": "stream",
     "text": [
      "Epoch 14: 100%|██████████| 204/204 [01:16<00:00,  2.68it/s, Loss 0.6009]\n",
      "Test Epoch 14: 100%|██████████| 51/51 [00:08<00:00,  6.37it/s, Test Loss 1.4021]\n"
     ]
    },
    {
     "name": "stdout",
     "output_type": "stream",
     "text": [
      "Input: 오바마는 대통령이다 .\n",
      "Predicted translation: . . <end> \n",
      "Input: 시민들은 도시 속에 산다 .\n",
      "Predicted translation: the ap s . <end> \n",
      "Input: 커피는 필요 없다 .\n",
      "Predicted translation: you can be to do you <end> \n"
     ]
    },
    {
     "name": "stderr",
     "output_type": "stream",
     "text": [
      "  0%|          | 0/204 [00:00<?, ?it/s]"
     ]
    },
    {
     "name": "stdout",
     "output_type": "stream",
     "text": [
      "Input: 일곱 명의 사망자가 발생했다 .\n",
      "Predicted translation: two of the report was not in the cause of . <end> \n"
     ]
    },
    {
     "name": "stderr",
     "output_type": "stream",
     "text": [
      "Epoch 15: 100%|██████████| 204/204 [01:16<00:00,  2.68it/s, Loss 0.5889]\n",
      "Test Epoch 15: 100%|██████████| 51/51 [00:07<00:00,  6.38it/s, Test Loss 1.4149]\n",
      "  0%|          | 0/204 [00:00<?, ?it/s]"
     ]
    },
    {
     "name": "stdout",
     "output_type": "stream",
     "text": [
      "Input: 오바마는 대통령이다 .\n",
      "Predicted translation: . . <end> \n",
      "Input: 시민들은 도시 속에 산다 .\n",
      "Predicted translation: the ap s . <end> \n",
      "Input: 커피는 필요 없다 .\n",
      "Predicted translation: you know how your life <end> \n",
      "Input: 일곱 명의 사망자가 발생했다 .\n",
      "Predicted translation: in the cause of . <end> \n"
     ]
    },
    {
     "name": "stderr",
     "output_type": "stream",
     "text": [
      "Epoch 16: 100%|██████████| 204/204 [01:16<00:00,  2.67it/s, Loss 0.5779]\n",
      "Test Epoch 16: 100%|██████████| 51/51 [00:08<00:00,  6.37it/s, Test Loss 1.4232]\n",
      "  0%|          | 0/204 [00:00<?, ?it/s]"
     ]
    },
    {
     "name": "stdout",
     "output_type": "stream",
     "text": [
      "Input: 오바마는 대통령이다 .\n",
      "Predicted translation: . . <end> \n",
      "Input: 시민들은 도시 속에 산다 .\n",
      "Predicted translation: the ap s . <end> \n",
      "Input: 커피는 필요 없다 .\n",
      "Predicted translation: you know what you <end> \n",
      "Input: 일곱 명의 사망자가 발생했다 .\n",
      "Predicted translation: two of the cause of . <end> \n"
     ]
    },
    {
     "name": "stderr",
     "output_type": "stream",
     "text": [
      "Epoch 17: 100%|██████████| 204/204 [01:16<00:00,  2.68it/s, Loss 0.5658]\n",
      "Test Epoch 17: 100%|██████████| 51/51 [00:07<00:00,  6.39it/s, Test Loss 1.4344]\n",
      "  0%|          | 0/204 [00:00<?, ?it/s]"
     ]
    },
    {
     "name": "stdout",
     "output_type": "stream",
     "text": [
      "Input: 오바마는 대통령이다 .\n",
      "Predicted translation: . . <end> \n",
      "Input: 시민들은 도시 속에 산다 .\n",
      "Predicted translation: the ap s . <end> \n",
      "Input: 커피는 필요 없다 .\n",
      "Predicted translation: you re not to find you <end> \n",
      "Input: 일곱 명의 사망자가 발생했다 .\n",
      "Predicted translation: in the hospital s ministry of . <end> \n"
     ]
    },
    {
     "name": "stderr",
     "output_type": "stream",
     "text": [
      "Epoch 18: 100%|██████████| 204/204 [01:16<00:00,  2.68it/s, Loss 0.5557]\n",
      "Test Epoch 18: 100%|██████████| 51/51 [00:07<00:00,  6.42it/s, Test Loss 1.4430]\n"
     ]
    },
    {
     "name": "stdout",
     "output_type": "stream",
     "text": [
      "Input: 오바마는 대통령이다 .\n",
      "Predicted translation: . . <end> \n",
      "Input: 시민들은 도시 속에 산다 .\n",
      "Predicted translation: the ap s . <end> \n",
      "Input: 커피는 필요 없다 .\n",
      "Predicted translation: you admit that you <end> \n"
     ]
    },
    {
     "name": "stderr",
     "output_type": "stream",
     "text": [
      "  0%|          | 0/204 [00:00<?, ?it/s]"
     ]
    },
    {
     "name": "stdout",
     "output_type": "stream",
     "text": [
      "Input: 일곱 명의 사망자가 발생했다 .\n",
      "Predicted translation: two of the report was not in the hospital s ministry of . <end> \n"
     ]
    },
    {
     "name": "stderr",
     "output_type": "stream",
     "text": [
      "Epoch 19: 100%|██████████| 204/204 [01:16<00:00,  2.68it/s, Loss 0.5450]\n",
      "Test Epoch 19: 100%|██████████| 51/51 [00:07<00:00,  6.40it/s, Test Loss 1.4534]\n",
      "  0%|          | 0/204 [00:00<?, ?it/s]"
     ]
    },
    {
     "name": "stdout",
     "output_type": "stream",
     "text": [
      "Input: 오바마는 대통령이다 .\n",
      "Predicted translation: . . <end> \n",
      "Input: 시민들은 도시 속에 산다 .\n",
      "Predicted translation: the ap s . <end> \n",
      "Input: 커피는 필요 없다 .\n",
      "Predicted translation: you admit you <end> \n",
      "Input: 일곱 명의 사망자가 발생했다 .\n",
      "Predicted translation: in the hospital of two months . <end> \n"
     ]
    },
    {
     "name": "stderr",
     "output_type": "stream",
     "text": [
      "Epoch 20: 100%|██████████| 204/204 [01:16<00:00,  2.67it/s, Loss 0.5351]\n",
      "Test Epoch 20: 100%|██████████| 51/51 [00:08<00:00,  6.37it/s, Test Loss 1.4647]\n",
      "  0%|          | 0/204 [00:00<?, ?it/s]"
     ]
    },
    {
     "name": "stdout",
     "output_type": "stream",
     "text": [
      "Input: 오바마는 대통령이다 .\n",
      "Predicted translation: . . <end> \n",
      "Input: 시민들은 도시 속에 산다 .\n",
      "Predicted translation: the ap s first time . <end> \n",
      "Input: 커피는 필요 없다 .\n",
      "Predicted translation: you admit from the rest <end> \n",
      "Input: 일곱 명의 사망자가 발생했다 .\n",
      "Predicted translation: two of the city of . <end> \n"
     ]
    },
    {
     "name": "stderr",
     "output_type": "stream",
     "text": [
      "Epoch 21: 100%|██████████| 204/204 [01:16<00:00,  2.68it/s, Loss 0.5257]\n",
      "Test Epoch 21: 100%|██████████| 51/51 [00:07<00:00,  6.38it/s, Test Loss 1.4713]\n",
      "  0%|          | 0/204 [00:00<?, ?it/s]"
     ]
    },
    {
     "name": "stdout",
     "output_type": "stream",
     "text": [
      "Input: 오바마는 대통령이다 .\n",
      "Predicted translation: . . <end> \n",
      "Input: 시민들은 도시 속에 산다 .\n",
      "Predicted translation: the ap s . <end> \n",
      "Input: 커피는 필요 없다 .\n",
      "Predicted translation: you re doing fat <end> \n",
      "Input: 일곱 명의 사망자가 발생했다 .\n",
      "Predicted translation: most of the fire s ministry of . <end> \n"
     ]
    },
    {
     "name": "stderr",
     "output_type": "stream",
     "text": [
      "Epoch 22: 100%|██████████| 204/204 [01:16<00:00,  2.68it/s, Loss 0.5154]\n",
      "Test Epoch 22: 100%|██████████| 51/51 [00:07<00:00,  6.41it/s, Test Loss 1.4821]\n"
     ]
    },
    {
     "name": "stdout",
     "output_type": "stream",
     "text": [
      "Input: 오바마는 대통령이다 .\n",
      "Predicted translation: . . <end> \n",
      "Input: 시민들은 도시 속에 산다 .\n",
      "Predicted translation: the ap s first time . <end> \n",
      "Input: 커피는 필요 없다 .\n",
      "Predicted translation: you admit from the rest <end> \n"
     ]
    },
    {
     "name": "stderr",
     "output_type": "stream",
     "text": [
      "  0%|          | 0/204 [00:00<?, ?it/s]"
     ]
    },
    {
     "name": "stdout",
     "output_type": "stream",
     "text": [
      "Input: 일곱 명의 사망자가 발생했다 .\n",
      "Predicted translation: two of the hospital s ministry of . <end> \n"
     ]
    },
    {
     "name": "stderr",
     "output_type": "stream",
     "text": [
      "Epoch 23: 100%|██████████| 204/204 [01:16<00:00,  2.68it/s, Loss 0.5058]\n",
      "Test Epoch 23: 100%|██████████| 51/51 [00:08<00:00,  6.36it/s, Test Loss 1.4935]\n"
     ]
    },
    {
     "name": "stdout",
     "output_type": "stream",
     "text": [
      "Input: 오바마는 대통령이다 .\n",
      "Predicted translation: . . <end> \n",
      "Input: 시민들은 도시 속에 산다 .\n",
      "Predicted translation: the ap s first time . <end> \n",
      "Input: 커피는 필요 없다 .\n",
      "Predicted translation: you re not to do you <end> \n"
     ]
    },
    {
     "name": "stderr",
     "output_type": "stream",
     "text": [
      "  0%|          | 0/204 [00:00<?, ?it/s]"
     ]
    },
    {
     "name": "stdout",
     "output_type": "stream",
     "text": [
      "Input: 일곱 명의 사망자가 발생했다 .\n",
      "Predicted translation: several of the cause of . <end> \n"
     ]
    },
    {
     "name": "stderr",
     "output_type": "stream",
     "text": [
      "Epoch 24: 100%|██████████| 204/204 [01:16<00:00,  2.67it/s, Loss 0.4976]\n",
      "Test Epoch 24: 100%|██████████| 51/51 [00:07<00:00,  6.40it/s, Test Loss 1.5009]\n",
      "  0%|          | 0/204 [00:00<?, ?it/s]"
     ]
    },
    {
     "name": "stdout",
     "output_type": "stream",
     "text": [
      "Input: 오바마는 대통령이다 .\n",
      "Predicted translation: . . <end> \n",
      "Input: 시민들은 도시 속에 산다 .\n",
      "Predicted translation: the ap s first time . <end> \n",
      "Input: 커피는 필요 없다 .\n",
      "Predicted translation: you admit you <end> \n",
      "Input: 일곱 명의 사망자가 발생했다 .\n",
      "Predicted translation: several of , . <end> \n"
     ]
    },
    {
     "name": "stderr",
     "output_type": "stream",
     "text": [
      "Epoch 25: 100%|██████████| 204/204 [01:16<00:00,  2.68it/s, Loss 0.4897]\n",
      "Test Epoch 25: 100%|██████████| 51/51 [00:08<00:00,  6.37it/s, Test Loss 1.5096]\n"
     ]
    },
    {
     "name": "stdout",
     "output_type": "stream",
     "text": [
      "Input: 오바마는 대통령이다 .\n",
      "Predicted translation: . . <end> \n",
      "Input: 시민들은 도시 속에 산다 .\n",
      "Predicted translation: about , it is a lot of the world . <end> \n",
      "Input: 커피는 필요 없다 .\n",
      "Predicted translation: you admit you <end> \n"
     ]
    },
    {
     "name": "stderr",
     "output_type": "stream",
     "text": [
      "  0%|          | 0/204 [00:00<?, ?it/s]"
     ]
    },
    {
     "name": "stdout",
     "output_type": "stream",
     "text": [
      "Input: 일곱 명의 사망자가 발생했다 .\n",
      "Predicted translation: several experts say is the end of . <end> \n"
     ]
    },
    {
     "name": "stderr",
     "output_type": "stream",
     "text": [
      "Epoch 26: 100%|██████████| 204/204 [01:16<00:00,  2.68it/s, Loss 0.4814]\n",
      "Test Epoch 26: 100%|██████████| 51/51 [00:07<00:00,  6.39it/s, Test Loss 1.5215]\n"
     ]
    },
    {
     "name": "stdout",
     "output_type": "stream",
     "text": [
      "Input: 오바마는 대통령이다 .\n",
      "Predicted translation: . . <end> \n",
      "Input: 시민들은 도시 속에 산다 .\n",
      "Predicted translation: about , it is a very big . <end> \n",
      "Input: 커피는 필요 없다 .\n",
      "Predicted translation: you admit you <end> \n"
     ]
    },
    {
     "name": "stderr",
     "output_type": "stream",
     "text": [
      "  0%|          | 0/204 [00:00<?, ?it/s]"
     ]
    },
    {
     "name": "stdout",
     "output_type": "stream",
     "text": [
      "Input: 일곱 명의 사망자가 발생했다 .\n",
      "Predicted translation: several experts are the city of . <end> \n"
     ]
    },
    {
     "name": "stderr",
     "output_type": "stream",
     "text": [
      "Epoch 27: 100%|██████████| 204/204 [01:16<00:00,  2.67it/s, Loss 0.4730]\n",
      "Test Epoch 27: 100%|██████████| 51/51 [00:07<00:00,  6.40it/s, Test Loss 1.5330]\n",
      "  0%|          | 0/204 [00:00<?, ?it/s]"
     ]
    },
    {
     "name": "stdout",
     "output_type": "stream",
     "text": [
      "Input: 오바마는 대통령이다 .\n",
      "Predicted translation: . . <end> \n",
      "Input: 시민들은 도시 속에 산다 .\n",
      "Predicted translation: . . <end> \n",
      "Input: 커피는 필요 없다 .\n",
      "Predicted translation: you admit you <end> \n",
      "Input: 일곱 명의 사망자가 발생했다 .\n",
      "Predicted translation: two of the cause of . <end> \n"
     ]
    },
    {
     "name": "stderr",
     "output_type": "stream",
     "text": [
      "Epoch 28: 100%|██████████| 204/204 [01:16<00:00,  2.68it/s, Loss 0.4646]\n",
      "Test Epoch 28: 100%|██████████| 51/51 [00:07<00:00,  6.38it/s, Test Loss 1.5424]\n",
      "  0%|          | 0/204 [00:00<?, ?it/s]"
     ]
    },
    {
     "name": "stdout",
     "output_type": "stream",
     "text": [
      "Input: 오바마는 대통령이다 .\n",
      "Predicted translation: . . <end> \n",
      "Input: 시민들은 도시 속에 산다 .\n",
      "Predicted translation: . . <end> \n",
      "Input: 커피는 필요 없다 .\n",
      "Predicted translation: you admit you <end> \n",
      "Input: 일곱 명의 사망자가 발생했다 .\n",
      "Predicted translation: several are the ministry of . <end> \n"
     ]
    },
    {
     "name": "stderr",
     "output_type": "stream",
     "text": [
      "Epoch 29: 100%|██████████| 204/204 [01:16<00:00,  2.67it/s, Loss 0.4561]\n",
      "Test Epoch 29: 100%|██████████| 51/51 [00:08<00:00,  6.37it/s, Test Loss 1.5490]\n"
     ]
    },
    {
     "name": "stdout",
     "output_type": "stream",
     "text": [
      "Input: 오바마는 대통령이다 .\n",
      "Predicted translation: . . <end> \n",
      "Input: 시민들은 도시 속에 산다 .\n",
      "Predicted translation: about , it is a lot of the world . <end> \n",
      "Input: 커피는 필요 없다 .\n",
      "Predicted translation: you admit you <end> \n"
     ]
    },
    {
     "name": "stderr",
     "output_type": "stream",
     "text": [
      "  0%|          | 0/204 [00:00<?, ?it/s]"
     ]
    },
    {
     "name": "stdout",
     "output_type": "stream",
     "text": [
      "Input: 일곱 명의 사망자가 발생했다 .\n",
      "Predicted translation: several of the hospital and and , is the end of . <end> \n"
     ]
    },
    {
     "name": "stderr",
     "output_type": "stream",
     "text": [
      "Epoch 30: 100%|██████████| 204/204 [01:16<00:00,  2.67it/s, Loss 0.4494]\n",
      "Test Epoch 30: 100%|██████████| 51/51 [00:08<00:00,  6.37it/s, Test Loss 1.5595]\n"
     ]
    },
    {
     "name": "stdout",
     "output_type": "stream",
     "text": [
      "Input: 오바마는 대통령이다 .\n",
      "Predicted translation: . . <end> \n",
      "Input: 시민들은 도시 속에 산다 .\n",
      "Predicted translation: about , some in a new york . <end> \n",
      "Input: 커피는 필요 없다 .\n",
      "Predicted translation: you admit you <end> \n",
      "Input: 일곱 명의 사망자가 발생했다 .\n",
      "Predicted translation: several experts say is the president of . <end> \n"
     ]
    }
   ],
   "source": [
    "EPOCHS = 30\n",
    "\n",
    "for epoch in range(EPOCHS):\n",
    "    total_loss = 0\n",
    "    \n",
    "    idx_list = list(range(0, enc_train.shape[0], BATCH_SIZE))\n",
    "    random.shuffle(idx_list)\n",
    "    t = tqdm(idx_list)\n",
    "\n",
    "    for (batch, idx) in enumerate(t):\n",
    "        batch_loss = train_step(enc_train[idx:idx+BATCH_SIZE],\n",
    "                                dec_train[idx:idx+BATCH_SIZE],\n",
    "                                encoder,\n",
    "                                decoder,\n",
    "                                optimizer,\n",
    "                                dec_tokenizer)\n",
    "    \n",
    "        total_loss += batch_loss\n",
    "        \n",
    "        t.set_description_str('Epoch %2d' % (epoch + 1))\n",
    "        t.set_postfix_str('Loss %.4f' % (total_loss.numpy() / (batch + 1)))\n",
    "    \n",
    "    test_loss = 0\n",
    "    \n",
    "    idx_list = list(range(0, enc_val.shape[0], BATCH_SIZE))\n",
    "    random.shuffle(idx_list)\n",
    "    t = tqdm(idx_list)\n",
    "\n",
    "    for (test_batch, idx) in enumerate(t):\n",
    "        test_batch_loss = eval_step(enc_val[idx:idx+BATCH_SIZE],\n",
    "                                    dec_val[idx:idx+BATCH_SIZE],\n",
    "                                    encoder,\n",
    "                                    decoder,\n",
    "                                    dec_tokenizer)\n",
    "    \n",
    "        test_loss += test_batch_loss\n",
    "\n",
    "        t.set_description_str('Test Epoch %2d' % (epoch + 1))\n",
    "        t.set_postfix_str('Test Loss %.4f' % (test_loss.numpy() / (test_batch + 1)))\n",
    "        \n",
    "    for sen in example :\n",
    "        translate(sen, encoder, decoder)"
   ]
  },
  {
   "cell_type": "markdown",
   "id": "amended-catholic",
   "metadata": {},
   "source": [
    "## 학습 결과 시각화"
   ]
  },
  {
   "cell_type": "code",
   "execution_count": 30,
   "id": "fabulous-mount",
   "metadata": {},
   "outputs": [],
   "source": [
    "def translate_visual(sentence, encoder, decoder):\n",
    "    result, sentence, attention = evaluate(sentence, encoder, decoder)\n",
    "\n",
    "    print('Input: %s' % (sentence))\n",
    "    print('Predicted translation: {}'.format(result))\n",
    "    \n",
    "    attention = attention[:len(result.split()), :len(sentence.split())]\n",
    "    plot_attention(attention, sentence.split(), result.split(' '))"
   ]
  },
  {
   "cell_type": "code",
   "execution_count": 32,
   "id": "victorian-plaza",
   "metadata": {},
   "outputs": [],
   "source": [
    "import matplotlib.font_manager as fm\n",
    "import matplotlib as mpl\n",
    "\n",
    "fontpath = '/usr/share/fonts/truetype/nanum/NanumBarunGothic.ttf'\n",
    "font = fm.FontProperties(fname=fontpath, size=9)\n",
    "plt.rc('font', family='NanumBarunGothic')\n",
    "mpl.font_manager._rebuild()"
   ]
  },
  {
   "cell_type": "code",
   "execution_count": 33,
   "id": "reasonable-optimization",
   "metadata": {},
   "outputs": [
    {
     "name": "stdout",
     "output_type": "stream",
     "text": [
      "Input: 시민들은 도시 속에 산다 .\n",
      "Predicted translation: about , some in a new york . <end> \n"
     ]
    },
    {
     "name": "stderr",
     "output_type": "stream",
     "text": [
      "/opt/conda/lib/python3.7/site-packages/ipykernel_launcher.py:45: UserWarning: FixedFormatter should only be used together with FixedLocator\n",
      "/opt/conda/lib/python3.7/site-packages/ipykernel_launcher.py:46: UserWarning: FixedFormatter should only be used together with FixedLocator\n"
     ]
    },
    {
     "data": {
      "image/png": "[encoded data removed]",
      "text/plain": [
       "<Figure size 720x720 with 1 Axes>"
      ]
     },
     "metadata": {
      "needs_background": "light"
     },
     "output_type": "display_data"
    }
   ],
   "source": [
    "translate_visual(\"시민들은 도시 속에 산다.\", encoder, decoder)"
   ]
  },
  {
   "cell_type": "code",
   "execution_count": 34,
   "id": "authentic-kernel",
   "metadata": {},
   "outputs": [
    {
     "name": "stdout",
     "output_type": "stream",
     "text": [
      "Input: 커피는 필요 없다 .\n",
      "Predicted translation: you admit you <end> \n"
     ]
    },
    {
     "name": "stderr",
     "output_type": "stream",
     "text": [
      "/opt/conda/lib/python3.7/site-packages/ipykernel_launcher.py:45: UserWarning: FixedFormatter should only be used together with FixedLocator\n",
      "/opt/conda/lib/python3.7/site-packages/ipykernel_launcher.py:46: UserWarning: FixedFormatter should only be used together with FixedLocator\n"
     ]
    },
    {
     "data": {
      "image/png": "[encoded data removed]",
      "text/plain": [
       "<Figure size 720x720 with 1 Axes>"
      ]
     },
     "metadata": {
      "needs_background": "light"
     },
     "output_type": "display_data"
    }
   ],
   "source": [
    "translate_visual(\"커피는 필요 없다.\", encoder, decoder)"
   ]
  },
  {
   "cell_type": "code",
   "execution_count": 35,
   "id": "detailed-calgary",
   "metadata": {},
   "outputs": [
    {
     "name": "stdout",
     "output_type": "stream",
     "text": [
      "Input: 오바마는 대통령이다 .\n",
      "Predicted translation: . . <end> \n"
     ]
    },
    {
     "name": "stderr",
     "output_type": "stream",
     "text": [
      "/opt/conda/lib/python3.7/site-packages/ipykernel_launcher.py:45: UserWarning: FixedFormatter should only be used together with FixedLocator\n",
      "/opt/conda/lib/python3.7/site-packages/ipykernel_launcher.py:46: UserWarning: FixedFormatter should only be used together with FixedLocator\n"
     ]
    },
    {
     "data": {
      "image/png": "[encoded data removed]",
      "text/plain": [
       "<Figure size 720x720 with 1 Axes>"
      ]
     },
     "metadata": {
      "needs_background": "light"
     },
     "output_type": "display_data"
    }
   ],
   "source": [
    "translate_visual(\"오바마는 대통령이다.\", encoder, decoder)"
   ]
  },
  {
   "cell_type": "code",
   "execution_count": 36,
   "id": "documented-robertson",
   "metadata": {},
   "outputs": [
    {
     "name": "stdout",
     "output_type": "stream",
     "text": [
      "Input: 일곱 명의 사망자가 발생했다 .\n",
      "Predicted translation: several experts say is the president of . <end> \n"
     ]
    },
    {
     "name": "stderr",
     "output_type": "stream",
     "text": [
      "/opt/conda/lib/python3.7/site-packages/ipykernel_launcher.py:45: UserWarning: FixedFormatter should only be used together with FixedLocator\n",
      "/opt/conda/lib/python3.7/site-packages/ipykernel_launcher.py:46: UserWarning: FixedFormatter should only be used together with FixedLocator\n"
     ]
    },
    {
     "data": {
      "image/png": "[encoded data removed]",
      "text/plain": [
       "<Figure size 720x720 with 1 Axes>"
      ]
     },
     "metadata": {
      "needs_background": "light"
     },
     "output_type": "display_data"
    }
   ],
   "source": [
    "translate_visual(\"일곱 명의 사망자가 발생했다.\", encoder, decoder)"
   ]
  },
  {
   "cell_type": "markdown",
   "id": "handed-founder",
   "metadata": {},
   "source": [
    "##  회고"
   ]
  },
  {
   "cell_type": "markdown",
   "id": "fresh-wagner",
   "metadata": {},
   "source": [
    "seven -> several 이렇게 번역된걸까요? 일곱이랑 several이 매칭되어있네요  \n",
    "Input: 시민들은 도시 속에 산다 .  \n",
    "Predicted translation: about , some in a new york . <end>   \n",
    "이 문장은 그럴싸해보이긴 하지만 다른 결과들은 전반적으로 실망스럽습니다.  \n",
    "loss값도 20Epoch 이후로는 증가하고 있습니다.  \n",
    "학습이 잘 되었다고는 할 수 없겠네요  \n",
    "데이터의 절대적인 수가 부족한 것도 있고, 자연어 번역자체가 노드에서 언급했던 대로 난이도가 너무 높은 작업이어서 그런것같습니다.\n",
    " "
   ]
  }
 ],
 "metadata": {
  "kernelspec": {
   "display_name": "Python 3",
   "language": "python",
   "name": "python3"
  },
  "language_info": {
   "codemirror_mode": {
    "name": "ipython",
    "version": 3
   },
   "file_extension": ".py",
   "mimetype": "text/x-python",
   "name": "python",
   "nbconvert_exporter": "python",
   "pygments_lexer": "ipython3",
   "version": "3.7.9"
  }
 },
 "nbformat": 4,
 "nbformat_minor": 5
}
