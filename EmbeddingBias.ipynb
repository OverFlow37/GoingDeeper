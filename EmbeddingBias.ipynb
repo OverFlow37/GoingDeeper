{
 "cells": [
  {
   "cell_type": "markdown",
   "id": "unlike-vintage",
   "metadata": {},
   "source": [
    "## 데이터 확인"
   ]
  },
  {
   "cell_type": "code",
   "execution_count": 1,
   "id": "thrown-lunch",
   "metadata": {},
   "outputs": [
    {
     "name": "stdout",
     "output_type": "stream",
     "text": [
      "사운드 엔지니어 상우(유지태 분)는 치매에 걸린 할머니(백성희 분)와\n",
      " 젊은 시절 상처한 한 아버지(박인환 분), 고모(신신애 분)와 함께 살고 있다.\n",
      " 어느 겨울 그는 지방 방송국 라디오 PD 은수(이영애 분)를 만난다.\n",
      " 자연의 소리를 채집해 틀어주는 라디오 프로그램을 준비하는 은수는 상우와 녹음 여행을 떠난다.\n",
      " 자연스레 가까워지는 두 사람은 어느 날, 은수의 아파트에서 밤을 보낸다.\n",
      " 너무 쉽게 사랑에 빠진 두 사람... 상우는 주체할 수 없을 정도로 그녀에게 빨려든다.\n",
      " 그러나 겨울에 만난 두 사람의 관계는 봄을 지나 여름을 맞이하면서 삐걱거린다.\n",
      " 이혼 경험이 있는 은수는 상우에게 결혼할 생각이 없다며 부담스러운 표정을 내비친다.\n",
      " \"어떻게 사랑이 변하니?...\"라고 묻는 상우에게 은수는 그저 \"헤어져\" 라고 단호하게 말한다.\n",
      " 영원히 변할 것 같지 않던 사랑이 변하고, 그 사실을 받아들이지 못하는 상우는 어찌 할 바를 모른다.\n",
      " 은수를 잊지 못하는 상우는 미련과 집착의 감정을 이기지 못하고 서울과 강릉을 오간다.\n",
      "유사 이래 연령, 성별, 빈부의 차이와 정치적인 입장을 불문하고 일거에 국민을 통합해 온 '애국심'이라는 성역에 일침을 가하는 다큐멘터리. 재작년 전국 민족민주 유가족협의회의 장기농성을 다룬 인상적인 다큐멘터리 <민들레>를 만들었던 독립영화집단 '빨간 눈사람'이 우리 사회 구석구석을 발빠르게 돌아다니며 애국심과 민족주의가 강요되는 현장을 발굴하여 카메라에 담았다. 박홍 서강대 명예총장, 이도형 '한국논단' 발행인, 축구해설자 신문선, 홍세화, 박노해 등 사회 각계의 '스타'들이 등장해 저마다의 확고한 신념을 성토한다. 감독 이경순과 최하동하는 이 작품을 위해 3년간 백여 명을 인터뷰했다고 한다. 2001 올해의 독립영화상 수상.\n",
      " 민족과 국가란 공동체에서 부단히 권력과 부를 얻는 자, 나아가 민족과 국가란 공동체에서 얻은 신분과 부귀를 영원히 그의 자손에게 대물림하려는 자, 그래서 민족과 국가란 공동체를 부단히 유지해야만 하는 자, 따라서 민족과 국가란 공동체의 당위성과 개인의 가치를 초월하는 그 존엄성을 끝도 없이 창조하고 되뇌어야 하는 자, 종국에는 민족과 국가란 공동체에 속해 있다고 태내에서부터 세뇌된 모든 이들의 삶과 행동에서 영원히 자기복제되는 순환의 고리, 영생하는 애국의 원동력은 그 순환의 골에서 온다.\n",
      "엽기적인 살인사건이 발생한 장소를 관광하는 투어팀. 그 팀에서 관광객들은 살인사건과 관련하여 히스테리컬한 반응을 보이는데 과연 이들의 정체는? (Tourists see whrer a murder take place. They respond hysterically to the murder…what are they?)\n",
      " 제46회 발라돌리드 국제영화제 (2001, 스페인)\n",
      "착하지만 엉뚱한 태희(배두나 분), 예쁜 깍쟁이 혜주(이요원 분), 그림을 잘 그리는 지영(옥지영 분), 명랑한 쌍둥이 비류(이은실 분)와 온조(이은주 분)는 단짝친구들. 늘 함께였던 그들이지만 스무 살이 되면서 길이 달라진다. 증권회사에 입사한 혜주는 성공한 커리어우먼의 야심을 키우고 미술에 재능이 있는 지영은 유학을 꿈꾼다. 한편 태희는 봉사활동에서 알게 된 뇌성마비 시인을 좋아하는데...\n",
      "  어느 날 지영이 길 잃은 새끼 고양이 티티를 만남면서 스무 살 그녀들의 삶에 고양이 한 마리가 끼어들게 된다. 혼자 있길 좋아하고, 쉽게 마음을 열지 않는 신비로운 동물 고양이. 고양이를 닮은 스무 살 그녀들. 고양이 티티와 함께 한 시간동안 삶은 예상못한 방향으로 흘러가지만 마침내 그녀들만의 해결책을 찾게 되는데... 사랑스런 몽상가 태희, 아름다운 야심가 혜주, 신비로운 아웃사이더 지영. 마지막으로 고양이를 부탁받은 사람은 누구일까?\n",
      "인도 등 아시아 식민지에 처음 발을 디딘 뒤 여행하고 “경영”한 이들은 과연 누구였을까? 과거의 이미지들은, 이민과 인종 문제, ‘오리엔탈리즘’이 격렬히 충돌하고 있는 현재와 강력하게 공명한다.\n",
      " [제19회 인디다큐페스티발]\n",
      "홀로 살아가는 미국 할머니와 한국 할머니의 이야기. 공원에서 가끔 마주치게 되는 그들은 비록 언어 소통의 어려움을 겪지만 시간이 흘러감에 따라 서로 가까워져 그들의 외로움과 우정을 공유하게 된다. 겨울이 지나고 봄이 왔을 때 길가의 민들레 홀씨는 삶의 이치를 말해주듯 한 할머니의 주위를 맴돈다. (Two elderly widows, an American and a Korean, frequent the same park in Philadelphia and attempt a friendship, though the Korean widow speaks no English. Driven by loneliness and a spark of hope, they persevere within the limits of body language, and the outcome poses a question of life as fundamental as a flower.)\n"
     ]
    }
   ],
   "source": [
    "import os\n",
    "\n",
    "with open(os.getenv('HOME')+'/aiffel/weat/synopsis.txt', 'r') as file:\n",
    "    for i in range(20):\n",
    "        print(file.readline(), end='')"
   ]
  },
  {
   "cell_type": "markdown",
   "id": "spoken-delta",
   "metadata": {},
   "source": [
    "## 형태소 분석기를 사용하여 품사가 명사인 경우 해당 단어를 추출하기"
   ]
  },
  {
   "cell_type": "code",
   "execution_count": 2,
   "id": "reported-newfoundland",
   "metadata": {},
   "outputs": [
    {
     "name": "stdout",
     "output_type": "stream",
     "text": [
      "슝~\n"
     ]
    }
   ],
   "source": [
    "# 약 15분정도 걸립니다.\n",
    "from konlpy.tag import Okt\n",
    "okt = Okt()\n",
    "tokenized = []\n",
    "with open(os.getenv('HOME')+'/aiffel/weat/synopsis.txt', 'r') as file:\n",
    "    while True:\n",
    "        line = file.readline()\n",
    "        if not line: break\n",
    "        words = okt.pos(line, stem=True, norm=True)\n",
    "        res = []\n",
    "        for w in words:\n",
    "            if w[1] in [\"Noun\"]:      # \"Adjective\", \"Verb\" 등을 포함할 수도 있습니다.\n",
    "                res.append(w[0])    # 명사일 때만 tokenized 에 저장하게 됩니다. \n",
    "        tokenized.append(res)\n",
    "\n",
    "print(\"슝~\")"
   ]
  },
  {
   "cell_type": "code",
   "execution_count": 3,
   "id": "still-asbestos",
   "metadata": {},
   "outputs": [
    {
     "name": "stdout",
     "output_type": "stream",
     "text": [
      "71156\n"
     ]
    }
   ],
   "source": [
    "print(len(tokenized))"
   ]
  },
  {
   "cell_type": "markdown",
   "id": "positive-processor",
   "metadata": {},
   "source": [
    "## 추출된 결과로 Embedding Model 만들기"
   ]
  },
  {
   "cell_type": "code",
   "execution_count": 4,
   "id": "sudden-hardware",
   "metadata": {},
   "outputs": [
    {
     "name": "stderr",
     "output_type": "stream",
     "text": [
      "/opt/conda/lib/python3.7/site-packages/gensim/similarities/__init__.py:15: UserWarning: The gensim.similarities.levenshtein submodule is disabled, because the optional Levenshtein package <https://pypi.org/project/python-Levenshtein/> is unavailable. Install Levenhstein (e.g. `pip install python-Levenshtein`) to suppress this warning.\n",
      "  warnings.warn(msg)\n"
     ]
    },
    {
     "data": {
      "text/plain": [
       "[('작품', 0.8807337284088135),\n",
       " ('다큐멘터리', 0.83884197473526),\n",
       " ('드라마', 0.8050187230110168),\n",
       " ('영화로', 0.7906219363212585),\n",
       " ('형식', 0.7813184261322021),\n",
       " ('주제', 0.7700209617614746),\n",
       " ('실화', 0.7658696174621582),\n",
       " ('소재', 0.7647987008094788),\n",
       " ('코미디', 0.7646863460540771),\n",
       " ('감동', 0.7623263001441956)]"
      ]
     },
     "execution_count": 4,
     "metadata": {},
     "output_type": "execute_result"
    }
   ],
   "source": [
    "from gensim.models import Word2Vec\n",
    "\n",
    "# tokenized에 담긴 데이터를 가지고 나만의 Word2Vec을 생성합니다. (Gensim 4.0 기준)\n",
    "model = Word2Vec(tokenized, vector_size=100, window=5, min_count=3, sg=0)  \n",
    "model.wv.most_similar(positive=['영화'])"
   ]
  },
  {
   "cell_type": "code",
   "execution_count": 5,
   "id": "verbal-likelihood",
   "metadata": {},
   "outputs": [
    {
     "data": {
      "text/plain": [
       "[('결말', 0.8672587275505066),\n",
       " ('극적', 0.8660212755203247),\n",
       " ('반전', 0.8431762456893921),\n",
       " ('동시', 0.8358429074287415),\n",
       " ('소용돌이', 0.8224512934684753),\n",
       " ('침묵', 0.8208872079849243),\n",
       " ('경계', 0.8185536861419678),\n",
       " ('의미', 0.817154049873352),\n",
       " ('전개', 0.8124300837516785),\n",
       " ('불안', 0.807184100151062)]"
      ]
     },
     "execution_count": 5,
     "metadata": {},
     "output_type": "execute_result"
    }
   ],
   "source": [
    "model.wv.most_similar(positive=['비극'])"
   ]
  },
  {
   "cell_type": "code",
   "execution_count": 6,
   "id": "christian-mortality",
   "metadata": {},
   "outputs": [
    {
     "data": {
      "text/plain": [
       "[('무게', 0.9174648523330688),\n",
       " ('고단', 0.895477294921875),\n",
       " ('우리네', 0.8930279612541199),\n",
       " ('무관심', 0.8849435448646545),\n",
       " ('영혜', 0.8844271898269653),\n",
       " ('그늘', 0.8820021748542786),\n",
       " ('병상', 0.8817340731620789),\n",
       " ('지혜롭', 0.8814563155174255),\n",
       " ('하나님', 0.8790020942687988),\n",
       " ('지탱', 0.8761619329452515)]"
      ]
     },
     "execution_count": 6,
     "metadata": {},
     "output_type": "execute_result"
    }
   ],
   "source": [
    "model.wv.most_similar(positive=['가난'])"
   ]
  },
  {
   "cell_type": "code",
   "execution_count": 9,
   "id": "figured-pizza",
   "metadata": {},
   "outputs": [
    {
     "name": "stdout",
     "output_type": "stream",
     "text": [
      "슝~\n"
     ]
    }
   ],
   "source": [
    "import os\n",
    "from sklearn.feature_extraction.text import TfidfVectorizer\n",
    "import numpy as np\n",
    "from konlpy.tag import Okt\n",
    "\n",
    "art_txt = 'synopsis_art.txt'\n",
    "gen_txt = 'synopsis_gen.txt'\n",
    "\n",
    "def read_token(file_name):\n",
    "    okt = Okt()\n",
    "    result = []\n",
    "    with open(os.getenv('HOME')+'/aiffel/weat/'+file_name, 'r') as fread: \n",
    "        print(file_name, '파일을 읽고 있습니다.')\n",
    "        while True:\n",
    "            line = fread.readline() \n",
    "            if not line: break \n",
    "            tokenlist = okt.pos(line, stem=True, norm=True) \n",
    "            for word in tokenlist:\n",
    "                if word[1] in [\"Noun\"]:#, \"Adjective\", \"Verb\"]:\n",
    "                    result.append((word[0])) \n",
    "    return ' '.join(result)\n",
    "\n",
    "print(\"슝~\")"
   ]
  },
  {
   "cell_type": "code",
   "execution_count": 10,
   "id": "resistant-relationship",
   "metadata": {},
   "outputs": [
    {
     "name": "stdout",
     "output_type": "stream",
     "text": [
      "synopsis_art.txt 파일을 읽고 있습니다.\n",
      "synopsis_gen.txt 파일을 읽고 있습니다.\n"
     ]
    }
   ],
   "source": [
    "# 2개의 파일을 처리하는데 10분 가량 걸립니다. \n",
    "art = read_token(art_txt)\n",
    "gen = read_token(gen_txt)"
   ]
  },
  {
   "cell_type": "code",
   "execution_count": 11,
   "id": "broadband-polls",
   "metadata": {},
   "outputs": [
    {
     "name": "stdout",
     "output_type": "stream",
     "text": [
      "(2, 41082)\n"
     ]
    }
   ],
   "source": [
    "vectorizer = TfidfVectorizer()\n",
    "X = vectorizer.fit_transform([art, gen])\n",
    "\n",
    "print(X.shape)"
   ]
  },
  {
   "cell_type": "code",
   "execution_count": 12,
   "id": "outstanding-perspective",
   "metadata": {},
   "outputs": [
    {
     "name": "stdout",
     "output_type": "stream",
     "text": [
      "23976\n",
      "영화\n"
     ]
    }
   ],
   "source": [
    "print(vectorizer.vocabulary_['영화'])\n",
    "print(vectorizer.get_feature_names()[23976])"
   ]
  },
  {
   "cell_type": "code",
   "execution_count": 13,
   "id": "higher-ending",
   "metadata": {},
   "outputs": [
    {
     "name": "stdout",
     "output_type": "stream",
     "text": [
      "예술영화를 대표하는 단어들:\n",
      "그녀, 자신, 시작, 위해, 사랑, 사람, 영화, 친구, 남자, 가족, 이야기, 마을, 사건, 마음, 세상, 아버지, 아이, 엄마, 모든, 여자, 대한, 서로, 과연, 다시, 시간, 아들, 소녀, 아내, 다른, 사이, 영화제, 세계, 사실, 하나, 점점, 남편, 감독, 여행, 인생, 발견, 모두, 순간, 우리, 가장, 마지막, 생활, 아빠, 모습, 통해, 죽음, 기억, 비밀, 학교, 음악, 한편, 소년, 생각, 도시, 명의, 사고, 결혼, 전쟁, 때문, 위기, 이제, 최고, 이자, 과거, 일상, 경찰, 상황, 간다, 미국, 결심, 운명, 현실, 관계, 지금, 단편, 여인, 하루, 이름, 이후, 준비, 인간, 감정, 만난, 국제, 처음, 충격, 살인, 누구, 동안, 존재, 그린, 어머니, 연인, 계속, 동생, 작품, \n",
      "\n",
      "일반영화를 대표하는 단어들:\n",
      "자신, 그녀, 영화제, 위해, 사람, 시작, 국제, 영화, 친구, 사랑, 남자, 이야기, 대한, 서울, 여자, 사건, 남편, 아이, 가족, 아버지, 다른, 마을, 시간, 엄마, 아들, 모든, 단편, 마음, 사실, 다시, 세계, 모습, 작품, 통해, 생각, 서로, 세상, 발견, 감독, 아내, 관계, 소녀, 사이, 하나, 우리, 애니메이션, 때문, 여성, 죽음, 과연, 점점, 인간, 생활, 한편, 결혼, 상황, 모두, 기억, 명의, 소년, 여행, 가장, 간다, 순간, 이제, 도시, 비밀, 학교, 과거, 가지, 이자, 경찰, 마지막, 미국, 동안, 전쟁, 주인공, 대해, 존재, 현실, 연출, 사고, 살인, 일상, 어머니, 계속, 사회, 인생, 다큐멘터리, 부문, 섹스, 최고, 바로, 동생, 의도, 하루, 위기, 계획, 정체, 한국, "
     ]
    }
   ],
   "source": [
    "m1 = X[0].tocoo()   # art를 TF-IDF로 표현한 sparse matrix를 가져옵니다. \n",
    "m2 = X[1].tocoo()   # gen을 TF-IDF로 표현한 sparse matrix를 가져옵니다. \n",
    "\n",
    "w1 = [[i, j] for i, j in zip(m1.col, m1.data)]\n",
    "w2 = [[i, j] for i, j in zip(m2.col, m2.data)]\n",
    "\n",
    "w1.sort(key=lambda x: x[1], reverse=True)   #art를 구성하는 단어들을 TF-IDF가 높은 순으로 정렬합니다. \n",
    "w2.sort(key=lambda x: x[1], reverse=True)   #gen을 구성하는 단어들을 TF-IDF가 높은 순으로 정렬합니다. \n",
    "\n",
    "print('예술영화를 대표하는 단어들:')\n",
    "for i in range(100):\n",
    "    print(vectorizer.get_feature_names()[w1[i][0]], end=', ')\n",
    "\n",
    "print('\\n')\n",
    "    \n",
    "print('일반영화를 대표하는 단어들:')\n",
    "for i in range(100):\n",
    "    print(vectorizer.get_feature_names()[w2[i][0]], end=', ')"
   ]
  },
  {
   "cell_type": "code",
   "execution_count": 14,
   "id": "guilty-woman",
   "metadata": {},
   "outputs": [],
   "source": [
    "n = 15\n",
    "w1_, w2_ = [], []\n",
    "for i in range(100):\n",
    "    w1_.append(vectorizer.get_feature_names()[w1[i][0]])\n",
    "    w2_.append(vectorizer.get_feature_names()[w2[i][0]])\n",
    "\n",
    "# w1에만 있고 w2에는 없는, 예술영화를 잘 대표하는 단어를 15개 추출한다.\n",
    "target_art, target_gen = [], []\n",
    "for i in range(100):\n",
    "    if (w1_[i] not in w2_) and (w1_[i] in model.wv): target_art.append(w1_[i])\n",
    "    if len(target_art) == n: break \n",
    "\n",
    "# w2에만 있고 w1에는 없는, 일반영화를 잘 대표하는 단어를 15개 추출한다.\n",
    "for i in range(100):\n",
    "    if (w2_[i] not in w1_) and (w2_[i] in model.wv): target_gen.append(w2_[i])\n",
    "    if len(target_gen) == n: break"
   ]
  },
  {
   "cell_type": "code",
   "execution_count": 15,
   "id": "sudden-fishing",
   "metadata": {},
   "outputs": [
    {
     "name": "stdout",
     "output_type": "stream",
     "text": [
      "['아빠', '음악', '결심', '운명', '지금', '여인', '이름', '이후', '준비', '감정', '만난', '처음', '충격', '누구', '그린']\n"
     ]
    }
   ],
   "source": [
    "print(target_art)"
   ]
  },
  {
   "cell_type": "code",
   "execution_count": 16,
   "id": "statewide-processor",
   "metadata": {},
   "outputs": [
    {
     "name": "stdout",
     "output_type": "stream",
     "text": [
      "['서울', '애니메이션', '여성', '가지', '주인공', '대해', '연출', '사회', '다큐멘터리', '부문', '섹스', '바로', '의도', '계획', '정체']\n"
     ]
    }
   ],
   "source": [
    "print(target_gen)"
   ]
  },
  {
   "cell_type": "code",
   "execution_count": 7,
   "id": "dramatic-strain",
   "metadata": {},
   "outputs": [],
   "source": [
    "genre_txt = ['synopsis_SF.txt', 'synopsis_family.txt', 'synopsis_show.txt', 'synopsis_horror.txt', 'synopsis_etc.txt', \n",
    "             'synopsis_documentary.txt', 'synopsis_drama.txt', 'synopsis_romance.txt', 'synopsis_musical.txt', \n",
    "             'synopsis_mystery.txt', 'synopsis_crime.txt', 'synopsis_historical.txt', 'synopsis_western.txt', \n",
    "             'synopsis_adult.txt', 'synopsis_thriller.txt', 'synopsis_animation.txt', 'synopsis_action.txt', \n",
    "             'synopsis_adventure.txt', 'synopsis_war.txt', 'synopsis_comedy.txt', 'synopsis_fantasy.txt']\n",
    "genre_name = ['SF', '가족', '공연', '공포(호러)', '기타', '다큐멘터리', '드라마', '멜로로맨스', '뮤지컬', '미스터리', '범죄', '사극', '서부극(웨스턴)',\n",
    "         '성인물(에로)', '스릴러', '애니메이션', '액션', '어드벤처', '전쟁', '코미디', '판타지']"
   ]
  },
  {
   "cell_type": "code",
   "execution_count": 17,
   "id": "initial-steering",
   "metadata": {},
   "outputs": [
    {
     "name": "stdout",
     "output_type": "stream",
     "text": [
      "synopsis_SF.txt 파일을 읽고 있습니다.\n",
      "synopsis_family.txt 파일을 읽고 있습니다.\n",
      "synopsis_show.txt 파일을 읽고 있습니다.\n",
      "synopsis_horror.txt 파일을 읽고 있습니다.\n",
      "synopsis_etc.txt 파일을 읽고 있습니다.\n",
      "synopsis_documentary.txt 파일을 읽고 있습니다.\n",
      "synopsis_drama.txt 파일을 읽고 있습니다.\n",
      "synopsis_romance.txt 파일을 읽고 있습니다.\n",
      "synopsis_musical.txt 파일을 읽고 있습니다.\n",
      "synopsis_mystery.txt 파일을 읽고 있습니다.\n",
      "synopsis_crime.txt 파일을 읽고 있습니다.\n",
      "synopsis_historical.txt 파일을 읽고 있습니다.\n",
      "synopsis_western.txt 파일을 읽고 있습니다.\n",
      "synopsis_adult.txt 파일을 읽고 있습니다.\n",
      "synopsis_thriller.txt 파일을 읽고 있습니다.\n",
      "synopsis_animation.txt 파일을 읽고 있습니다.\n",
      "synopsis_action.txt 파일을 읽고 있습니다.\n",
      "synopsis_adventure.txt 파일을 읽고 있습니다.\n",
      "synopsis_war.txt 파일을 읽고 있습니다.\n",
      "synopsis_comedy.txt 파일을 읽고 있습니다.\n",
      "synopsis_fantasy.txt 파일을 읽고 있습니다.\n"
     ]
    }
   ],
   "source": [
    "# 약 10분정도 걸립니다.\n",
    "genre = []\n",
    "for file_name in genre_txt:\n",
    "    genre.append(read_token(file_name))"
   ]
  },
  {
   "cell_type": "code",
   "execution_count": 18,
   "id": "enabling-dutch",
   "metadata": {},
   "outputs": [
    {
     "name": "stdout",
     "output_type": "stream",
     "text": [
      "(21, 42191)\n"
     ]
    }
   ],
   "source": [
    "vectorizer = TfidfVectorizer()\n",
    "X = vectorizer.fit_transform(genre)\n",
    "\n",
    "print(X.shape)"
   ]
  },
  {
   "cell_type": "code",
   "execution_count": 19,
   "id": "known-excess",
   "metadata": {},
   "outputs": [
    {
     "name": "stdout",
     "output_type": "stream",
     "text": [
      "SF: 위해, 자신, 지구, 시작, 사람, 인류, 인간, 미래, 우주, 그녀, 로봇, 세계, 모든, 박사, 우주선, \n",
      "가족: 엄마, 아빠, 가족, 영화제, 자신, 위해, 친구, 아주르, 아버지, 시작, 그녀, 아들, 마을, 국제, 낙타, \n",
      "공연: 오페라, 사랑, 토스카, 실황, 올레, 자신, 카바, 그녀, 공연, 오텔로, 리골레토, 백작, 프레, 베르디, 위해, \n",
      "공포(호러): 시작, 위해, 사람, 자신, 친구, 그녀, 사건, 공포, 발견, 죽음, 마을, 가족, 악령, 남자, 좀비, \n",
      "기타: 영화제, 국제, 서울, 단편, 영화, 자신, 사람, 이야기, 그녀, 남자, 위해, 시작, 사랑, 뉴미디어, 페스티벌, \n",
      "다큐멘터리: 영화제, 영화, 다큐, 국제, 다큐멘터리, 사람, 이야기, 대한, 자신, 감독, 위해, 서울, 우리, 시작, 세계, \n",
      "드라마: 자신, 영화제, 그녀, 사람, 사랑, 영화, 위해, 시작, 국제, 남자, 친구, 이야기, 엄마, 여자, 아버지, \n",
      "멜로로맨스: 그녀, 사랑, 자신, 시작, 남편, 남자, 여자, 사람, 친구, 섹스, 위해, 마음, 결혼, 서로, 아내, \n",
      "뮤지컬: 뮤지컬, 사랑, 에스메랄다, 그녀, 음악, 충무로, 모차르트, 영화, 토스카, 자신, 니웨, 카바, 영화제, 바흐, 페뷔스, \n",
      "미스터리: 사건, 그녀, 시작, 자신, 위해, 사람, 발견, 사고, 진실, 죽음, 기억, 살인, 친구, 아내, 남자, \n",
      "범죄: 사건, 위해, 자신, 경찰, 시작, 그녀, 범죄, 조직, 살인, 사람, 마약, 형사, 남자, 모든, 살해, \n",
      "사극: 조선, 위해, 시작, 신기전, 사랑, 자신, 아가멤논, 황제, 그녀, 루안, 최고, 운명, 사람, 하선, 전쟁, \n",
      "서부극(웨스턴): 서부, 보안관, 위해, 벌린, 카우보이, 그레이프바인, 헨리, 마을, 자신, 개릿, 아이, 시작, 무법자, 프린트, 마적, \n",
      "성인물(에로): 그녀, 남편, 마사지, 자신, 섹스, 관계, 영화, 정사, 남자, 위해, 시작, 여자, 유부녀, 마음, 사랑, \n",
      "스릴러: 자신, 그녀, 사건, 시작, 위해, 사람, 살인, 남자, 발견, 아내, 경찰, 친구, 모든, 사실, 살해, \n",
      "애니메이션: 애니메이션, 국제, 영화제, 친구, 인디애니페스트, 위해, 자신, 시작, 사람, 페스티벌, 서울, 이야기, 아이, 마을, 소녀, \n",
      "액션: 위해, 자신, 시작, 조직, 사건, 사람, 그녀, 경찰, 전쟁, 모든, 목숨, 사실, 친구, 가족, 요원, \n",
      "어드벤처: 위해, 자신, 시작, 친구, 마을, 아버지, 영화, 아이, 사람, 여행, 세계, 앤트, 세상, 가족, 모험, \n",
      "전쟁: 전쟁, 독일군, 전투, 위해, 작전, 시작, 부대, 윈터스, 독일, 연합군, 미군, 임무, 자신, 사람, 나치, \n",
      "코미디: 그녀, 자신, 시작, 위해, 사랑, 사람, 친구, 영화, 남자, 여자, 영화제, 가족, 과연, 마을, 사건, \n",
      "판타지: 자신, 그녀, 시작, 위해, 사람, 사랑, 요괴, 영화제, 이야기, 영화, 소녀, 남자, 인간, 세상, 마을, \n"
     ]
    }
   ],
   "source": [
    "m = [X[i].tocoo() for i in range(X.shape[0])]\n",
    "\n",
    "w = [[[i, j] for i, j in zip(mm.col, mm.data)] for mm in m]\n",
    "\n",
    "for i in range(len(w)):\n",
    "    w[i].sort(key=lambda x: x[1], reverse=True)\n",
    "attributes = []\n",
    "for i in range(len(w)):\n",
    "    print(genre_name[i], end=': ')\n",
    "    attr = []\n",
    "    j = 0\n",
    "    while (len(attr) < 15):\n",
    "        if vectorizer.get_feature_names()[w[i][j][0]] in model.wv:\n",
    "            attr.append(vectorizer.get_feature_names()[w[i][j][0]])\n",
    "            print(vectorizer.get_feature_names()[w[i][j][0]], end=', ')\n",
    "        j += 1\n",
    "    attributes.append(attr)\n",
    "    print()"
   ]
  },
  {
   "cell_type": "code",
   "execution_count": 20,
   "id": "quick-indianapolis",
   "metadata": {},
   "outputs": [
    {
     "name": "stdout",
     "output_type": "stream",
     "text": [
      "슝~\n"
     ]
    }
   ],
   "source": [
    "matrix = [[0 for _ in range(len(genre_name))] for _ in range(len(genre_name))]\n",
    "print(\"슝~\")"
   ]
  },
  {
   "cell_type": "markdown",
   "id": "invalid-business",
   "metadata": {},
   "source": [
    "## Weat Score 시각화"
   ]
  },
  {
   "cell_type": "code",
   "execution_count": 22,
   "id": "statutory-indication",
   "metadata": {},
   "outputs": [],
   "source": [
    "from numpy import dot\n",
    "from numpy.linalg import norm\n",
    "\n",
    "# 코사인 유사도 함수\n",
    "def cos_sim(i, j):\n",
    "    return dot(i, j.T) / (norm(i)*norm(j))\n",
    "\n",
    "# 코사인 유사도 비교 함수\n",
    "def s(w, A, B):\n",
    "    c_a = cos_sim(w, A)\n",
    "    c_b = cos_sim(w, B)\n",
    "    mean_A = np.mean(c_a, axis=-1)\n",
    "    mean_B = np.mean(c_b, axis=-1)\n",
    "    return mean_A - mean_B\n",
    "\n",
    "# WEAT score 구현\n",
    "def weat_score(X, Y, A, B):\n",
    "    \n",
    "    s_X = s(X, A, B)\n",
    "    s_Y = s(Y, A, B)\n",
    "    \n",
    "    mean_X = np.mean(s_X)\n",
    "    mean_Y = np.mean(s_Y)\n",
    "    \n",
    "    std_dev = np.std(np.concatenate([s_X, s_Y], axis=0))\n",
    "    \n",
    "    return (mean_X - mean_Y) / std_dev"
   ]
  },
  {
   "cell_type": "code",
   "execution_count": 23,
   "id": "sitting-grill",
   "metadata": {},
   "outputs": [
    {
     "name": "stdout",
     "output_type": "stream",
     "text": [
      "슝~\n"
     ]
    }
   ],
   "source": [
    "X = np.array([model.wv[word] for word in target_art])\n",
    "Y = np.array([model.wv[word] for word in target_gen])\n",
    "\n",
    "for i in range(len(genre_name)-1):\n",
    "    for j in range(i+1, len(genre_name)):\n",
    "        A = np.array([model.wv[word] for word in attributes[i]])\n",
    "        B = np.array([model.wv[word] for word in attributes[j]])\n",
    "        matrix[i][j] = weat_score(X, Y, A, B)\n",
    "\n",
    "print(\"슝~\")"
   ]
  },
  {
   "cell_type": "code",
   "execution_count": 26,
   "id": "cutting-toolbox",
   "metadata": {},
   "outputs": [
    {
     "name": "stdout",
     "output_type": "stream",
     "text": [
      "SF 가족 -0.490456\n",
      "SF 공연 -0.3480761\n",
      "SF 공포(호러) -0.68553656\n",
      "SF 기타 0.35268018\n",
      "SF 다큐멘터리 0.5990052\n",
      "SF 드라마 -0.35247648\n",
      "SF 멜로로맨스 -0.7921241\n",
      "SF 뮤지컬 0.34370622\n",
      "SF 미스터리 -0.69393355\n",
      "SF 범죄 -0.25847188\n",
      "SF 사극 -0.8514582\n",
      "SF 서부극(웨스턴) -0.4361382\n",
      "SF 성인물(에로) -0.56152654\n",
      "SF 스릴러 -0.5523256\n",
      "SF 애니메이션 0.35841775\n",
      "SF 액션 -0.47888282\n",
      "SF 어드벤처 -0.7795324\n",
      "SF 전쟁 0.19289196\n",
      "SF 코미디 -0.43171713\n",
      "SF 판타지 -0.18369979\n",
      "가족 공연 0.18074292\n",
      "가족 공포(호러) -0.20232412\n",
      "가족 기타 0.7489738\n",
      "가족 다큐멘터리 0.84107536\n",
      "가족 드라마 0.20496598\n",
      "가족 멜로로맨스 -0.64381963\n",
      "가족 뮤지컬 0.70228267\n",
      "가족 미스터리 -0.32749772\n",
      "가족 범죄 0.17882176\n",
      "가족 사극 -0.14117068\n",
      "가족 서부극(웨스턴) 0.31271937\n",
      "가족 성인물(에로) -0.3325314\n",
      "가족 스릴러 -0.1846842\n",
      "가족 애니메이션 0.85449654\n",
      "가족 액션 0.07567882\n",
      "가족 어드벤처 -0.07037484\n",
      "가족 전쟁 0.5942428\n",
      "가족 코미디 0.17116211\n",
      "가족 판타지 0.40419966\n",
      "공연 공포(호러) -0.27114853\n",
      "공연 기타 0.90536135\n",
      "공연 다큐멘터리 0.92777616\n",
      "공연 드라마 0.0069931434\n",
      "공연 멜로로맨스 -0.73155946\n",
      "공연 뮤지컬 0.87432474\n",
      "공연 미스터리 -0.36842918\n",
      "공연 범죄 0.05200392\n",
      "공연 사극 -0.42473418\n",
      "공연 서부극(웨스턴) -9.274632e-05\n",
      "공연 성인물(에로) -0.5034463\n",
      "공연 스릴러 -0.24958351\n",
      "공연 애니메이션 0.8704604\n",
      "공연 액션 -0.05153486\n",
      "공연 어드벤처 -0.23272231\n",
      "공연 전쟁 0.52197754\n",
      "공연 코미디 -0.022520268\n",
      "공연 판타지 0.29495406\n",
      "공포(호러) 기타 0.656312\n",
      "공포(호러) 다큐멘터리 0.76475793\n",
      "공포(호러) 드라마 0.33904603\n",
      "공포(호러) 멜로로맨스 -0.618848\n",
      "공포(호러) 뮤지컬 0.6314158\n",
      "공포(호러) 미스터리 -0.5247569\n",
      "공포(호러) 범죄 0.66554654\n",
      "공포(호러) 사극 0.105118506\n",
      "공포(호러) 서부극(웨스턴) 0.4168959\n",
      "공포(호러) 성인물(에로) -0.20663503\n",
      "공포(호러) 스릴러 -0.039557807\n",
      "공포(호러) 애니메이션 0.6729097\n",
      "공포(호러) 액션 0.534399\n",
      "공포(호러) 어드벤처 0.20169124\n",
      "공포(호러) 전쟁 0.63151246\n",
      "공포(호러) 코미디 0.4614665\n",
      "공포(호러) 판타지 0.54470235\n",
      "기타 다큐멘터리 0.62368345\n",
      "기타 드라마 -0.88980466\n",
      "기타 멜로로맨스 -0.89652115\n",
      "기타 뮤지컬 -0.039429832\n",
      "기타 미스터리 -0.66861486\n",
      "기타 범죄 -0.40339908\n",
      "기타 사극 -0.8376257\n",
      "기타 서부극(웨스턴) -0.6294153\n",
      "기타 성인물(에로) -0.8182569\n",
      "기타 스릴러 -0.5834648\n",
      "기타 애니메이션 -0.10225194\n",
      "기타 액션 -0.49078482\n",
      "기타 어드벤처 -0.80906355\n",
      "기타 전쟁 -0.25608355\n",
      "기타 코미디 -0.74231964\n",
      "기타 판타지 -0.70981026\n",
      "다큐멘터리 드라마 -0.9361537\n",
      "다큐멘터리 멜로로맨스 -0.9117553\n",
      "다큐멘터리 뮤지컬 -0.77447444\n",
      "다큐멘터리 미스터리 -0.76568747\n",
      "다큐멘터리 범죄 -0.5307427\n",
      "다큐멘터리 사극 -0.927541\n",
      "다큐멘터리 서부극(웨스턴) -0.74153215\n",
      "다큐멘터리 성인물(에로) -0.84687024\n",
      "다큐멘터리 스릴러 -0.67851764\n",
      "다큐멘터리 애니메이션 -0.5712967\n",
      "다큐멘터리 액션 -0.6247708\n",
      "다큐멘터리 어드벤처 -0.95454437\n",
      "다큐멘터리 전쟁 -0.47164\n",
      "다큐멘터리 코미디 -0.84116936\n",
      "다큐멘터리 판타지 -0.9154449\n",
      "드라마 멜로로맨스 -0.8458201\n",
      "드라마 뮤지컬 0.8345023\n",
      "드라마 미스터리 -0.43598765\n",
      "드라마 범죄 0.051995218\n",
      "드라마 사극 -0.3906642\n",
      "드라마 서부극(웨스턴) -0.005031178\n",
      "드라마 성인물(에로) -0.5910966\n",
      "드라마 스릴러 -0.2860199\n",
      "드라마 애니메이션 0.8705069\n",
      "드라마 액션 -0.05784204\n",
      "드라마 어드벤처 -0.31866983\n",
      "드라마 전쟁 0.42016777\n",
      "드라마 코미디 -0.055553336\n",
      "드라마 판타지 0.50684303\n",
      "멜로로맨스 뮤지컬 0.8722589\n",
      "멜로로맨스 미스터리 0.4658258\n",
      "멜로로맨스 범죄 0.8427602\n",
      "멜로로맨스 사극 0.637413\n",
      "멜로로맨스 서부극(웨스턴) 0.7447367\n",
      "멜로로맨스 성인물(에로) 0.8140926\n",
      "멜로로맨스 스릴러 0.63738453\n",
      "멜로로맨스 애니메이션 0.87650627\n",
      "멜로로맨스 액션 0.74246305\n",
      "멜로로맨스 어드벤처 0.61880004\n",
      "멜로로맨스 전쟁 0.7853665\n",
      "멜로로맨스 코미디 0.90681523\n",
      "멜로로맨스 판타지 0.8351829\n",
      "뮤지컬 미스터리 -0.65149075\n",
      "뮤지컬 범죄 -0.38419074\n",
      "뮤지컬 사극 -0.81448185\n",
      "뮤지컬 서부극(웨스턴) -0.5845049\n",
      "뮤지컬 성인물(에로) -0.79886657\n",
      "뮤지컬 스릴러 -0.56290185\n",
      "뮤지컬 애니메이션 -0.05179682\n",
      "뮤지컬 액션 -0.4737575\n",
      "뮤지컬 어드벤처 -0.7878038\n",
      "뮤지컬 전쟁 -0.23394807\n",
      "뮤지컬 코미디 -0.6980224\n",
      "뮤지컬 판타지 -0.68195385\n",
      "미스터리 범죄 0.98807734\n",
      "미스터리 사극 0.26765501\n",
      "미스터리 서부극(웨스턴) 0.4986508\n",
      "미스터리 성인물(에로) -0.043182448\n",
      "미스터리 스릴러 0.6468384\n",
      "미스터리 애니메이션 0.6741842\n",
      "미스터리 액션 0.7685903\n",
      "미스터리 어드벤처 0.33208245\n",
      "미스터리 전쟁 0.65611905\n",
      "미스터리 코미디 0.5429302\n",
      "미스터리 판타지 0.57974845\n",
      "범죄 사극 -0.32097438\n",
      "범죄 서부극(웨스턴) -0.07786059\n",
      "범죄 성인물(에로) -0.47729695\n",
      "범죄 스릴러 -0.98872983\n",
      "범죄 애니메이션 0.40084106\n",
      "범죄 액션 -0.35507777\n",
      "범죄 어드벤처 -0.22006646\n",
      "범죄 전쟁 0.36611843\n",
      "범죄 코미디 -0.0851567\n",
      "범죄 판타지 0.111121684\n",
      "사극 서부극(웨스턴) 0.42619017\n",
      "사극 성인물(에로) -0.29656455\n",
      "사극 스릴러 -0.09965859\n",
      "사극 애니메이션 0.8395069\n",
      "사극 액션 0.22977707\n",
      "사극 어드벤처 0.134905\n",
      "사극 전쟁 0.8675421\n",
      "사극 코미디 0.45907637\n",
      "사극 판타지 0.66365737\n",
      "서부극(웨스턴) 성인물(에로) -0.43072593\n",
      "서부극(웨스턴) 스릴러 -0.3550866\n",
      "서부극(웨스턴) 애니메이션 0.6924742\n",
      "서부극(웨스턴) 액션 -0.08546038\n",
      "서부극(웨스턴) 어드벤처 -0.3274996\n",
      "서부극(웨스턴) 전쟁 0.6398603\n",
      "서부극(웨스턴) 코미디 -0.02435801\n",
      "서부극(웨스턴) 판타지 0.2556666\n",
      "성인물(에로) 스릴러 0.19138163\n",
      "성인물(에로) 애니메이션 0.7615986\n",
      "성인물(에로) 액션 0.37511125\n",
      "성인물(에로) 어드벤처 0.30959338\n",
      "성인물(에로) 전쟁 0.58889294\n",
      "성인물(에로) 코미디 0.5849778\n",
      "성인물(에로) 판타지 0.6281908\n",
      "스릴러 애니메이션 0.589339\n",
      "스릴러 액션 0.5551657\n",
      "스릴러 어드벤처 0.15763189\n",
      "스릴러 전쟁 0.57593536\n",
      "스릴러 코미디 0.34779632\n",
      "스릴러 판타지 0.4234621\n",
      "애니메이션 액션 -0.5017781\n",
      "애니메이션 어드벤처 -0.88010836\n",
      "애니메이션 전쟁 -0.25180647\n",
      "애니메이션 코미디 -0.7391966\n",
      "애니메이션 판타지 -0.69248\n",
      "액션 어드벤처 -0.13036677\n",
      "액션 전쟁 0.5270972\n",
      "액션 코미디 0.05397647\n",
      "액션 판타지 0.23752391\n",
      "어드벤처 전쟁 0.6613983\n",
      "어드벤처 코미디 0.35144845\n",
      "어드벤처 판타지 0.74452037\n",
      "전쟁 코미디 -0.47009972\n",
      "전쟁 판타지 -0.25840232\n",
      "코미디 판타지 0.52536005\n"
     ]
    }
   ],
   "source": [
    "for i in range(len(genre_name)-1):\n",
    "    for j in range(i+1, len(genre_name)):\n",
    "        print(genre_name[i], genre_name[j],matrix[i][j])"
   ]
  },
  {
   "cell_type": "code",
   "execution_count": 33,
   "id": "neutral-choir",
   "metadata": {},
   "outputs": [
    {
     "data": {
      "text/plain": [
       "<AxesSubplot:>"
      ]
     },
     "execution_count": 33,
     "metadata": {},
     "output_type": "execute_result"
    },
    {
     "data": {
      "image/png": "[encoded data removed]",
      "text/plain": [
       "<Figure size 432x288 with 2 Axes>"
      ]
     },
     "metadata": {},
     "output_type": "display_data"
    }
   ],
   "source": [
    "import numpy as np; \n",
    "import seaborn as sns; \n",
    "import matplotlib.pyplot as plt\n",
    "\n",
    "np.random.seed(0)\n",
    "\n",
    "# 한글 지원 폰트\n",
    "sns.set(font='NanumGothic')\n",
    "\n",
    "# 마이너스 부호 \n",
    "\n",
    "plt.rcParams['axes.unicode_minus'] = False\n",
    "\n",
    "ax = sns.heatmap(matrix, xticklabels=genre_name, yticklabels=genre_name, annot=False,  cmap='RdYlGn_r')\n",
    "ax"
   ]
  },
  {
   "cell_type": "markdown",
   "id": "coastal-serbia",
   "metadata": {},
   "source": [
    "WEAT Score를 해석한 결과 공연과 뮤지컬은 높은 연관도를 보이며, 부호가 +이므로 사람의 편향과 일치합니다.  \n",
    "반면에 다큐멘터리와 드라마는 -0.93으로 높은 연관도를 보이고, 부호가 -이므로 사람의 편향과 일치하지 않습니다.  \n",
    "이와같이 납득가는 결과를 보여주는 결과가 있는 반면에 좀 이상해보이는 결과도 있었습니다.  \n",
    "범죄와 스릴러의 연관도는 -0.98로 매우 높은데 연관이 있는건 맞지만 누가 보더라도 범죄와 스릴러는 연관도가 높기 때문에 부호가 음수로 나온것은 좀 이상합니다  \n",
    "공포(호러) 스릴러 -0.039557807 이 결과 역시 이상한데 공포와 스릴러는 연관이 커보이기 때문입니다.  \n",
    "스릴러와 관련된 데이터가 좀 이상하다고 의심해볼 수 있습니다.\n",
    "그외 전반적인 WEAT Score는 그럭저럭 납득되는 점수를 보여주고 있습니다."
   ]
  }
 ],
 "metadata": {
  "kernelspec": {
   "display_name": "Python 3",
   "language": "python",
   "name": "python3"
  },
  "language_info": {
   "codemirror_mode": {
    "name": "ipython",
    "version": 3
   },
   "file_extension": ".py",
   "mimetype": "text/x-python",
   "name": "python",
   "nbconvert_exporter": "python",
   "pygments_lexer": "ipython3",
   "version": "3.7.9"
  }
 },
 "nbformat": 4,
 "nbformat_minor": 5
}
